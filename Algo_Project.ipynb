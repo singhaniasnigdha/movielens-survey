{
  "nbformat": 4,
  "nbformat_minor": 0,
  "metadata": {
    "colab": {
      "name": "Algo Project.ipynb",
      "provenance": [],
      "collapsed_sections": []
    },
    "kernelspec": {
      "name": "python3",
      "display_name": "Python 3"
    },
    "accelerator": "GPU"
  },
  "cells": [
    {
      "cell_type": "code",
      "metadata": {
        "id": "jV3-QxTr6HRW",
        "colab": {
          "base_uri": "https://localhost:8080/"
        },
        "outputId": "6e851490-f894-4abf-c775-7cc17041bacb"
      },
      "source": [
        "!pip install git+https://github.com/maciejkula/spotlight.git@master#egg=spotlight\n",
        "!pip install scikit-surprise\n",
        "!pip install lightfm"
      ],
      "execution_count": null,
      "outputs": [
        {
          "output_type": "stream",
          "text": [
            "Collecting spotlight\n",
            "  Cloning https://github.com/maciejkula/spotlight.git (to revision master) to /tmp/pip-install-joknqyj6/spotlight\n",
            "  Running command git clone -q https://github.com/maciejkula/spotlight.git /tmp/pip-install-joknqyj6/spotlight\n",
            "Requirement already satisfied: torch>=0.4.0 in /usr/local/lib/python3.6/dist-packages (from spotlight) (1.7.0+cu101)\n",
            "Requirement already satisfied: dataclasses in /usr/local/lib/python3.6/dist-packages (from torch>=0.4.0->spotlight) (0.8)\n",
            "Requirement already satisfied: typing-extensions in /usr/local/lib/python3.6/dist-packages (from torch>=0.4.0->spotlight) (3.7.4.3)\n",
            "Requirement already satisfied: numpy in /usr/local/lib/python3.6/dist-packages (from torch>=0.4.0->spotlight) (1.19.4)\n",
            "Requirement already satisfied: future in /usr/local/lib/python3.6/dist-packages (from torch>=0.4.0->spotlight) (0.16.0)\n",
            "Building wheels for collected packages: spotlight\n",
            "  Building wheel for spotlight (setup.py) ... \u001b[?25l\u001b[?25hdone\n",
            "  Created wheel for spotlight: filename=spotlight-0.1.6-cp36-none-any.whl size=33921 sha256=b02b8d43312251bbd4e4f2331c5119455413862f8ede045821fb800eaae80db1\n",
            "  Stored in directory: /tmp/pip-ephem-wheel-cache-_ign7y_4/wheels/de/0f/85/71b17c59d32cb9d29c31d4ffb16eb14f4cc153f1e28c7a3efb\n",
            "Successfully built spotlight\n",
            "Installing collected packages: spotlight\n",
            "Successfully installed spotlight-0.1.6\n",
            "Collecting scikit-surprise\n",
            "\u001b[?25l  Downloading https://files.pythonhosted.org/packages/97/37/5d334adaf5ddd65da99fc65f6507e0e4599d092ba048f4302fe8775619e8/scikit-surprise-1.1.1.tar.gz (11.8MB)\n",
            "\u001b[K     |████████████████████████████████| 11.8MB 4.1MB/s \n",
            "\u001b[?25hRequirement already satisfied: joblib>=0.11 in /usr/local/lib/python3.6/dist-packages (from scikit-surprise) (1.0.0)\n",
            "Requirement already satisfied: numpy>=1.11.2 in /usr/local/lib/python3.6/dist-packages (from scikit-surprise) (1.19.4)\n",
            "Requirement already satisfied: scipy>=1.0.0 in /usr/local/lib/python3.6/dist-packages (from scikit-surprise) (1.4.1)\n",
            "Requirement already satisfied: six>=1.10.0 in /usr/local/lib/python3.6/dist-packages (from scikit-surprise) (1.15.0)\n",
            "Building wheels for collected packages: scikit-surprise\n",
            "  Building wheel for scikit-surprise (setup.py) ... \u001b[?25l\u001b[?25hdone\n",
            "  Created wheel for scikit-surprise: filename=scikit_surprise-1.1.1-cp36-cp36m-linux_x86_64.whl size=1618274 sha256=90ea8b2eaf2642233e82730f22f726a856dded0138ebf23f0b0ab768f6217b81\n",
            "  Stored in directory: /root/.cache/pip/wheels/78/9c/3d/41b419c9d2aff5b6e2b4c0fc8d25c538202834058f9ed110d0\n",
            "Successfully built scikit-surprise\n",
            "Installing collected packages: scikit-surprise\n",
            "Successfully installed scikit-surprise-1.1.1\n",
            "Collecting lightfm\n",
            "\u001b[?25l  Downloading https://files.pythonhosted.org/packages/5e/fe/8864d723daa8e5afc74080ce510c30f7ad52facf6a157d4b42dec83dfab4/lightfm-1.16.tar.gz (310kB)\n",
            "\u001b[K     |████████████████████████████████| 317kB 4.2MB/s \n",
            "\u001b[?25hRequirement already satisfied: numpy in /usr/local/lib/python3.6/dist-packages (from lightfm) (1.19.4)\n",
            "Requirement already satisfied: scipy>=0.17.0 in /usr/local/lib/python3.6/dist-packages (from lightfm) (1.4.1)\n",
            "Requirement already satisfied: requests in /usr/local/lib/python3.6/dist-packages (from lightfm) (2.23.0)\n",
            "Requirement already satisfied: scikit-learn in /usr/local/lib/python3.6/dist-packages (from lightfm) (0.22.2.post1)\n",
            "Requirement already satisfied: chardet<4,>=3.0.2 in /usr/local/lib/python3.6/dist-packages (from requests->lightfm) (3.0.4)\n",
            "Requirement already satisfied: urllib3!=1.25.0,!=1.25.1,<1.26,>=1.21.1 in /usr/local/lib/python3.6/dist-packages (from requests->lightfm) (1.24.3)\n",
            "Requirement already satisfied: certifi>=2017.4.17 in /usr/local/lib/python3.6/dist-packages (from requests->lightfm) (2020.12.5)\n",
            "Requirement already satisfied: idna<3,>=2.5 in /usr/local/lib/python3.6/dist-packages (from requests->lightfm) (2.10)\n",
            "Requirement already satisfied: joblib>=0.11 in /usr/local/lib/python3.6/dist-packages (from scikit-learn->lightfm) (1.0.0)\n",
            "Building wheels for collected packages: lightfm\n",
            "  Building wheel for lightfm (setup.py) ... \u001b[?25l\u001b[?25hdone\n",
            "  Created wheel for lightfm: filename=lightfm-1.16-cp36-cp36m-linux_x86_64.whl size=704272 sha256=2c467674e211492e5f86df2b8e41a29c88a6291e6e2581413090bc23fe05630a\n",
            "  Stored in directory: /root/.cache/pip/wheels/c6/64/d4/673c7277f71ac4c5ad4835b94708c01b653ef2d3aa78ef20aa\n",
            "Successfully built lightfm\n",
            "Installing collected packages: lightfm\n",
            "Successfully installed lightfm-1.16\n"
          ],
          "name": "stdout"
        }
      ]
    },
    {
      "cell_type": "code",
      "metadata": {
        "id": "p3wsfZlB6HV2",
        "colab": {
          "base_uri": "https://localhost:8080/"
        },
        "outputId": "b41a14df-a0b5-4046-d72d-d1583179393e"
      },
      "source": [
        "import math\n",
        "import pandas as pd\n",
        "import numpy as np\n",
        "import scipy.sparse as sp\n",
        "import matplotlib.pyplot as plt\n",
        "\n",
        "from collections import Counter\n",
        "from itertools import product\n",
        "from operator import sub\n",
        "\n",
        "# Spotlight - https://maciejkula.github.io/spotlight/\n",
        "from spotlight.interactions import Interactions\n",
        "from spotlight.cross_validation import random_train_test_split\n",
        "from spotlight.evaluation import mrr_score, precision_recall_score, rmse_score\n",
        "from spotlight.factorization.implicit import ImplicitFactorizationModel\n",
        "from spotlight.factorization.explicit import ExplicitFactorizationModel\n",
        "from spotlight.datasets.movielens import get_movielens_dataset\n",
        "\n",
        "# Surprise - http://surpriselib.com/\n",
        "from surprise import SVD, KNNBasic, SlopeOne, CoClustering, NormalPredictor \n",
        "from surprise import Dataset, Reader\n",
        "from surprise.dataset import DatasetAutoFolds\n",
        "from surprise.accuracy import mae, rmse\n",
        "from surprise.model_selection import cross_validate, train_test_split\n",
        "\n",
        "# LightFM - https://making.lyst.com/lightfm/docs/index.html\n",
        "from lightfm.evaluation import precision_at_k\n",
        "from lightfm import LightFM\n",
        "\n",
        "# Hyperopt\n",
        "from hyperopt import hp, fmin, tpe, Trials\n",
        "\n",
        "from google.colab import drive\n",
        "drive.mount('/content/drive')"
      ],
      "execution_count": null,
      "outputs": [
        {
          "output_type": "stream",
          "text": [
            "Mounted at /content/drive\n"
          ],
          "name": "stdout"
        }
      ]
    },
    {
      "cell_type": "code",
      "metadata": {
        "colab": {
          "base_uri": "https://localhost:8080/"
        },
        "id": "nDqaUzvoTZmM",
        "outputId": "2c3048f3-4df1-4b73-d3a3-157f05a37caf"
      },
      "source": [
        "root_path = '/content/drive/MyDrive/Algorithms & DS/movielens/'\n",
        "\n",
        "clickstream = pd.read_csv(root_path + 'u.data', sep='\\t', header=None, \n",
        "                          names=['userId', 'itemId', 'ratings', 'timestamp'])\n",
        "tags = pd.read_csv(root_path + 'u.item', sep='|', encoding=\"iso-8859-1\",\n",
        "                   header=None, names=['movie id', 'movie title', 'release date', \n",
        "                   'video release date', 'IMDb URL', 'unknown', 'Action', \n",
        "                   'Adventure', 'Animation', 'Childrens', 'Comedy', 'Crime', \n",
        "                   'Documentary', 'Drama', 'Fantasy', 'Film-Noir', 'Horror',\n",
        "                   'Musical', 'Mystery', 'Romance', 'Sci-Fi' 'Thriller', 'War',\n",
        "                   'Western'], index_col=False)\n",
        "tags = tags.drop(columns=['release date', 'video release date', 'IMDb URL', 'unknown'])\n",
        "\n",
        "def build_fm_interaction(rows, cols, data):\n",
        "  mat = sp.lil_matrix((rows, cols), dtype=np.int32)\n",
        "  for uid, iid, rating, _ in data:\n",
        "    mat[uid-1, iid-1] = rating\n",
        "  return mat.tocoo()\n",
        "\n",
        "'''\n",
        "Data Pre-processing\n",
        "'''\n",
        "# Remove movies that occur <= 2 times\n",
        "freq = clickstream['itemId'].value_counts()\n",
        "data = clickstream[clickstream['itemId'].isin(freq[freq > 2].index)]\n",
        "\n",
        "# Split into test and training\n",
        "data = data.sort_values(by=['userId', 'timestamp'])\n",
        "data_test = data.groupby(by='userId').tail(1)\n",
        "data_train = data.drop(data_test.index)\n",
        "\n",
        "data_val = data_train.groupby(by='userId').tail(1)\n",
        "data_train_for_val = data_train.drop(data_val.index)\n",
        "\n",
        "# Movies seen by User in training\n",
        "seen_movies = data_train.groupby(by='userId')['itemId'].apply(list).to_dict()\n",
        "\n",
        "# For Spotlight\n",
        "spotlight_train = Interactions(data_train['userId'].values, data_train['itemId'].values, data_train['ratings'].values, data_train['timestamp'].values)\n",
        "spotlight_test = Interactions(data_test['userId'].values, data_test['itemId'].values, \n",
        "                              data_test['ratings'].values, data_test['timestamp'].values, \n",
        "                              num_users=spotlight_train.num_users, num_items=spotlight_train.num_items)\n",
        "\n",
        "print(spotlight_train, spotlight_test)\n",
        "\n",
        "# For Surprise\n",
        "reader = Reader(rating_scale=(1, 5))\n",
        "surprise_train = Dataset.load_from_df(data_train[['userId', 'itemId', 'ratings']], reader)\n",
        "surprise_test = [(row['userId'], row['itemId'], row['ratings']) for _, row in data_test.iterrows()]\n",
        "\n",
        "# For LightFM\n",
        "fm_train = build_fm_interaction(clickstream['userId'].nunique(), clickstream['itemId'].nunique(), data_train.values)\n",
        "fm_test = build_fm_interaction(clickstream['userId'].nunique(), clickstream['itemId'].nunique(), data_test.values)\n",
        "fm_item_features = sp.hstack([sp.identity(clickstream['itemId'].nunique()), (tags.values[:, 2:].astype(float))]).tocsr()\n",
        "print(repr(fm_train), fm_item_features.shape)\n",
        "\n",
        "# For Validation\n",
        "print('\\n------ For Validation: --------')\n",
        "spotlight_train_for_val = Interactions(data_train_for_val['userId'].values, data_train_for_val['itemId'].values, \n",
        "                              data_train_for_val['ratings'].values, data_train_for_val['timestamp'].values)\n",
        "spotlight_val = Interactions(data_val['userId'].values, data_val['itemId'].values, data_val['ratings'].values, data_val['timestamp'].values,\n",
        "                             num_users=spotlight_train_for_val.num_users, num_items=spotlight_train_for_val.num_items)\n",
        "\n",
        "print(spotlight_val, spotlight_train_for_val)\n",
        "\n",
        "surprise_train_for_val = Dataset.load_from_df(data_train_for_val[['userId', 'itemId', 'ratings']], reader)\n",
        "surprise_val = [(row['userId'], row['itemId'], row['ratings']) for _, row in data_val.iterrows()]\n",
        "\n",
        "fm_train_for_val = build_fm_interaction(clickstream['userId'].nunique(), clickstream['itemId'].nunique(), data_train_for_val.values)\n",
        "fm_val = build_fm_interaction(clickstream['userId'].nunique(), clickstream['itemId'].nunique(), data_val.values)"
      ],
      "execution_count": null,
      "outputs": [
        {
          "output_type": "stream",
          "text": [
            "<Interactions dataset (944 users x 1665 items x 98780 interactions)> <Interactions dataset (944 users x 1665 items x 943 interactions)>\n",
            "<943x1682 sparse matrix of type '<class 'numpy.int32'>'\n",
            "\twith 98780 stored elements in COOrdinate format> (1682, 1699)\n",
            "\n",
            "------ For Validation: --------\n",
            "<Interactions dataset (944 users x 1665 items x 943 interactions)> <Interactions dataset (944 users x 1665 items x 97837 interactions)>\n"
          ],
          "name": "stdout"
        }
      ]
    },
    {
      "cell_type": "code",
      "metadata": {
        "colab": {
          "base_uri": "https://localhost:8080/"
        },
        "id": "YaBC4Ny6QyLq",
        "outputId": "2b9aba64-34ac-4bf9-ba17-48c3eb13719c"
      },
      "source": [
        "print(f\"{data.shape[0]}/{data['userId'].nunique()}*{data['itemId'].nunique()}\")\n",
        "s2 = data.shape[0] * 1.0 / (data['userId'].nunique() * data['itemId'].nunique())\n",
        "print(f\"Post Processing Sparsity: {1-s2:.5f}\")"
      ],
      "execution_count": null,
      "outputs": [
        {
          "output_type": "stream",
          "text": [
            "99723/943*1473\n",
            "Post Processing Sparsity: 0.92821\n"
          ],
          "name": "stdout"
        }
      ]
    },
    {
      "cell_type": "code",
      "metadata": {
        "colab": {
          "base_uri": "https://localhost:8080/",
          "height": 1000
        },
        "id": "wye6ywxgxtRi",
        "outputId": "8628b21f-7016-4bba-d912-04e97715ebce"
      },
      "source": [
        "from sklearn.manifold import TSNE\n",
        "import seaborn as sns\n",
        "\n",
        "tsne_x = TSNE(n_components=2, verbose=2, early_exaggeration=12.0, perplexity=50).fit_transform(fm_item_features.toarray()[:, -17:])\n",
        "\n",
        "plt.figure(figsize=(8, 8))\n",
        "sns.set_context(\"notebook\", font_scale=1.5,\n",
        "                rc={\"lines.linewidth\": 2.5})\n",
        "\n",
        "sns.scatterplot(tsne_x[:, 0], tsne_x[:, 1])\n",
        "plt.show()"
      ],
      "execution_count": null,
      "outputs": [
        {
          "output_type": "stream",
          "text": [
            "[t-SNE] Computing 151 nearest neighbors...\n",
            "[t-SNE] Indexed 1682 samples in 0.004s...\n",
            "[t-SNE] Computed neighbors for 1682 samples in 0.128s...\n",
            "[t-SNE] Computed conditional probabilities for sample 1000 / 1682\n",
            "[t-SNE] Computed conditional probabilities for sample 1682 / 1682\n",
            "[t-SNE] Mean sigma: 0.000000\n",
            "[t-SNE] Computed conditional probabilities in 0.249s\n",
            "[t-SNE] Iteration 50: error = 59.9319344, gradient norm = 0.1324725 (50 iterations in 0.750s)\n",
            "[t-SNE] Iteration 100: error = 54.2581024, gradient norm = 0.0650672 (50 iterations in 0.546s)\n",
            "[t-SNE] Iteration 150: error = 53.7809525, gradient norm = 0.0530473 (50 iterations in 0.505s)\n",
            "[t-SNE] Iteration 200: error = 53.6371002, gradient norm = 0.0692157 (50 iterations in 0.501s)\n",
            "[t-SNE] Iteration 250: error = 53.6091690, gradient norm = 0.0730809 (50 iterations in 0.508s)\n",
            "[t-SNE] KL divergence after 250 iterations with early exaggeration: 53.609169\n",
            "[t-SNE] Iteration 300: error = 0.5629842, gradient norm = 0.0005835 (50 iterations in 0.487s)\n",
            "[t-SNE] Iteration 350: error = 0.5001496, gradient norm = 0.0002436 (50 iterations in 0.514s)\n",
            "[t-SNE] Iteration 400: error = 0.4868891, gradient norm = 0.0002242 (50 iterations in 0.502s)\n",
            "[t-SNE] Iteration 450: error = 0.4824084, gradient norm = 0.0001206 (50 iterations in 0.507s)\n",
            "[t-SNE] Iteration 500: error = 0.4796399, gradient norm = 0.0001051 (50 iterations in 0.501s)\n",
            "[t-SNE] Iteration 550: error = 0.4769557, gradient norm = 0.0002117 (50 iterations in 0.517s)\n",
            "[t-SNE] Iteration 600: error = 0.4751018, gradient norm = 0.0000757 (50 iterations in 0.507s)\n",
            "[t-SNE] Iteration 650: error = 0.4741547, gradient norm = 0.0000885 (50 iterations in 0.506s)\n",
            "[t-SNE] Iteration 700: error = 0.4735051, gradient norm = 0.0000685 (50 iterations in 0.496s)\n",
            "[t-SNE] Iteration 750: error = 0.4731112, gradient norm = 0.0000694 (50 iterations in 0.500s)\n",
            "[t-SNE] Iteration 800: error = 0.4728509, gradient norm = 0.0000744 (50 iterations in 0.515s)\n",
            "[t-SNE] Iteration 850: error = 0.4727629, gradient norm = 0.0000697 (50 iterations in 0.498s)\n",
            "[t-SNE] Iteration 900: error = 0.4724655, gradient norm = 0.0000742 (50 iterations in 0.512s)\n",
            "[t-SNE] Iteration 950: error = 0.4726650, gradient norm = 0.0000640 (50 iterations in 0.503s)\n",
            "[t-SNE] Iteration 1000: error = 0.4723515, gradient norm = 0.0000616 (50 iterations in 0.514s)\n",
            "[t-SNE] KL divergence after 1000 iterations: 0.472351\n"
          ],
          "name": "stdout"
        },
        {
          "output_type": "stream",
          "text": [
            "/usr/local/lib/python3.6/dist-packages/seaborn/_decorators.py:43: FutureWarning: Pass the following variables as keyword args: x, y. From version 0.12, the only valid positional argument will be `data`, and passing other arguments without an explicit keyword will result in an error or misinterpretation.\n",
            "  FutureWarning\n"
          ],
          "name": "stderr"
        },
        {
          "output_type": "display_data",
          "data": {
            "image/png": "[encoded data removed]",
            "text/plain": [
              "<Figure size 576x576 with 1 Axes>"
            ]
          },
          "metadata": {
            "tags": [],
            "needs_background": "light"
          }
        }
      ]
    },
    {
      "cell_type": "code",
      "metadata": {
        "colab": {
          "base_uri": "https://localhost:8080/",
          "height": 465
        },
        "id": "U0BiWlpsz2Xo",
        "outputId": "80b03471-a41b-42b4-987e-dd72414c1d43"
      },
      "source": [
        "from sklearn.cluster import KMeans\n",
        "\n",
        "y = KMeans(n_clusters=7).fit_predict(tsne_x)\n",
        "plt.figure(figsize=(7, 7))\n",
        "plt.axis('off')\n",
        "sns.scatterplot(tsne_x[:, 0], tsne_x[:, 1], hue=y, palette=sns.color_palette(\"hls\", len(set(y))))\n",
        "plt.show()"
      ],
      "execution_count": null,
      "outputs": [
        {
          "output_type": "stream",
          "text": [
            "/usr/local/lib/python3.6/dist-packages/seaborn/_decorators.py:43: FutureWarning: Pass the following variables as keyword args: x, y. From version 0.12, the only valid positional argument will be `data`, and passing other arguments without an explicit keyword will result in an error or misinterpretation.\n",
            "  FutureWarning\n"
          ],
          "name": "stderr"
        },
        {
          "output_type": "display_data",
          "data": {
            "image/png": "[encoded data removed]",
            "text/plain": [
              "<Figure size 504x504 with 1 Axes>"
            ]
          },
          "metadata": {
            "tags": [],
            "needs_background": "light"
          }
        }
      ]
    },
    {
      "cell_type": "code",
      "metadata": {
        "colab": {
          "base_uri": "https://localhost:8080/"
        },
        "id": "PBnfXW5A0Auw",
        "outputId": "937a0422-fd06-4ea8-a416-80b9db0e17e5"
      },
      "source": [
        "'''\n",
        "Checking clustering\n",
        "'''\n",
        "tag_cols = tags.columns[-17:]\n",
        "for i in set(y):\n",
        "  idx = np.where(y==i)[0].tolist()\n",
        "  print(f\"\\n\\nCluster: {i}\")\n",
        "  tag_counts = np.zeros(17)\n",
        "  for movie_idx in idx:\n",
        "    tag_counts += tags.iloc[movie_idx].values[-17:].astype(int)\n",
        "  print(tag_cols[np.argsort(tag_counts)[::-1][:3]].tolist())"
      ],
      "execution_count": null,
      "outputs": [
        {
          "output_type": "stream",
          "text": [
            "\n",
            "\n",
            "Cluster: 0\n",
            "['Drama', 'Western', 'Childrens']\n",
            "\n",
            "\n",
            "Cluster: 1\n",
            "['Action', 'War', 'Horror']\n",
            "\n",
            "\n",
            "Cluster: 2\n",
            "['Romance', 'Drama', 'Comedy']\n",
            "\n",
            "\n",
            "Cluster: 3\n",
            "['Comedy', 'Childrens', 'Adventure']\n",
            "\n",
            "\n",
            "Cluster: 4\n",
            "['Drama', 'Comedy', 'Crime']\n",
            "\n",
            "\n",
            "Cluster: 5\n",
            "['Documentary', 'Western', 'Drama']\n",
            "\n",
            "\n",
            "Cluster: 6\n",
            "['War', 'Drama', 'Crime']\n"
          ],
          "name": "stdout"
        }
      ]
    },
    {
      "cell_type": "code",
      "metadata": {
        "colab": {
          "base_uri": "https://localhost:8080/"
        },
        "id": "Eeu5VqiW0ZSM",
        "outputId": "eabce7c9-831c-448a-be46-22a2b45733bc"
      },
      "source": [
        "print(y.shape)"
      ],
      "execution_count": null,
      "outputs": [
        {
          "output_type": "stream",
          "text": [
            "(1682,)\n"
          ],
          "name": "stdout"
        }
      ]
    },
    {
      "cell_type": "code",
      "metadata": {
        "colab": {
          "base_uri": "https://localhost:8080/"
        },
        "id": "06qov3w9nKZt",
        "outputId": "63be1521-bba9-4c40-b69e-79f8ddfc1e74"
      },
      "source": [
        "def run_lightfm(loss_fn, l2, lr, eps, train_set, test_set, feature_set):\n",
        "  model = LightFM(loss=loss_fn, item_alpha=l2, learning_rate=lr)\n",
        "  model.fit(train_set, item_features=feature_set, epochs=eps, num_threads=2, verbose=False)\n",
        "  preds = model.predict_rank(test_set, train_interactions=train_set, item_features=feature_set)\n",
        "\n",
        "  hr, mrr, ndcg = 0.0, 0.0, 0.0\n",
        "  counter = 0\n",
        "  for u, i in zip(*test_set.nonzero()):\n",
        "    if preds[u, i] < 50 and preds[u, i] > 0:\n",
        "      hr += 1\n",
        "      mrr += (1/preds[u,i])\n",
        "      ndcg += (math.log(2) / math.log(preds[u, i] + 2))\n",
        "    counter += 1\n",
        "  hr = hr*100/counter\n",
        "  mrr = mrr/counter\n",
        "  ndcg = ndcg/counter\n",
        "\n",
        "  print(f'Hit Rate: {hr:.4f} \\tMRR: {mrr:.4f} \\tNDCG: {ndcg:.4f}\\n')\n",
        "  return hr, mrr, ndcg\n",
        "  \n",
        "def optimize_lightfm(args):\n",
        "  hr, mrr, ndcg = run_lightfm(args['loss_fn'], args['l2'], args['lr'], args['epochs'], \n",
        "                               fm_train_for_val, fm_val, fm_item_features)\n",
        "\n",
        "  print(f\"Params: Loss Fn={args['loss_fn']}, Epochs={args['epochs']}, L2={args['l2']}, LR={args['lr']}\")\n",
        "  return -hr\n",
        "\n",
        "space = {\n",
        "    'loss_fn': hp.choice('loss_fn', ['bpr', 'logistic', 'warp']),\n",
        "    'lr': hp.choice('lr', [0.05, 0.01]),\n",
        "    'l2': hp.choice('l2', [1e-4, 1e-6]),\n",
        "    'epochs': hp.choice('epochs', [20, 50, 100])\n",
        "}\n",
        "\n",
        "trials_fm = Trials()\n",
        "best_fm = fmin(optimize_lightfm, space=space, algo=tpe.suggest, max_evals=50, trials=trials_fm)\n",
        "print(best_fm)\n",
        "print(trials_fm)"
      ],
      "execution_count": null,
      "outputs": [
        {
          "output_type": "stream",
          "text": [
            "Hit Rate: 28.9502 \tMRR: 0.0388 \tNDCG: 0.0787\n",
            "\n",
            "Params: Loss Fn=warp, Epochs=50, L2=0.0001, LR=0.01\n",
            "Hit Rate: 7.3171 \tMRR: 0.0050 \tNDCG: 0.0169\n",
            "\n",
            "Params: Loss Fn=logistic, Epochs=50, L2=1e-06, LR=0.05\n",
            "Hit Rate: 7.3171 \tMRR: 0.0049 \tNDCG: 0.0167\n",
            "\n",
            "Params: Loss Fn=logistic, Epochs=100, L2=1e-06, LR=0.01\n",
            "Hit Rate: 18.1336 \tMRR: 0.0250 \tNDCG: 0.0498\n",
            "\n",
            "Params: Loss Fn=bpr, Epochs=20, L2=1e-06, LR=0.01\n",
            "Hit Rate: 24.9205 \tMRR: 0.0292 \tNDCG: 0.0650\n",
            "\n",
            "Params: Loss Fn=warp, Epochs=20, L2=1e-06, LR=0.01\n",
            "Hit Rate: 32.9799 \tMRR: 0.0511 \tNDCG: 0.0926\n",
            "\n",
            "Params: Loss Fn=bpr, Epochs=100, L2=0.0001, LR=0.05\n",
            "Hit Rate: 5.6204 \tMRR: 0.0033 \tNDCG: 0.0128\n",
            "\n",
            "Params: Loss Fn=logistic, Epochs=50, L2=0.0001, LR=0.01\n",
            "Hit Rate: 32.0255 \tMRR: 0.0467 \tNDCG: 0.0892\n",
            "\n",
            "Params: Loss Fn=bpr, Epochs=20, L2=1e-06, LR=0.05\n",
            "Hit Rate: 24.0721 \tMRR: 0.0294 \tNDCG: 0.0634\n",
            "\n",
            "Params: Loss Fn=warp, Epochs=20, L2=0.0001, LR=0.01\n",
            "Hit Rate: 15.9067 \tMRR: 0.0188 \tNDCG: 0.0422\n",
            "\n",
            "Params: Loss Fn=bpr, Epochs=20, L2=0.0001, LR=0.01\n",
            "Hit Rate: 19.7243 \tMRR: 0.0280 \tNDCG: 0.0544\n",
            "\n",
            "Params: Loss Fn=bpr, Epochs=50, L2=1e-06, LR=0.01\n",
            "Hit Rate: 32.7678 \tMRR: 0.0477 \tNDCG: 0.0915\n",
            "\n",
            "Params: Loss Fn=bpr, Epochs=100, L2=1e-06, LR=0.05\n",
            "Hit Rate: 6.2566 \tMRR: 0.0036 \tNDCG: 0.0141\n",
            "\n",
            "Params: Loss Fn=logistic, Epochs=20, L2=0.0001, LR=0.01\n",
            "Hit Rate: 7.3171 \tMRR: 0.0050 \tNDCG: 0.0168\n",
            "\n",
            "Params: Loss Fn=logistic, Epochs=100, L2=1e-06, LR=0.05\n",
            "Hit Rate: 40.5090 \tMRR: 0.0595 \tNDCG: 0.1120\n",
            "\n",
            "Params: Loss Fn=warp, Epochs=100, L2=0.0001, LR=0.05\n",
            "Hit Rate: 29.6925 \tMRR: 0.0428 \tNDCG: 0.0825\n",
            "\n",
            "Params: Loss Fn=warp, Epochs=50, L2=1e-06, LR=0.01\n",
            "Hit Rate: 32.6617 \tMRR: 0.0436 \tNDCG: 0.0887\n",
            "\n",
            "Params: Loss Fn=warp, Epochs=100, L2=0.0001, LR=0.01\n",
            "Hit Rate: 25.5567 \tMRR: 0.0329 \tNDCG: 0.0682\n",
            "\n",
            "Params: Loss Fn=warp, Epochs=20, L2=1e-06, LR=0.01\n",
            "Hit Rate: 40.7211 \tMRR: 0.0561 \tNDCG: 0.1104\n",
            "\n",
            "Params: Loss Fn=warp, Epochs=100, L2=0.0001, LR=0.05\n",
            "Hit Rate: 6.2566 \tMRR: 0.0036 \tNDCG: 0.0141\n",
            "\n",
            "Params: Loss Fn=logistic, Epochs=20, L2=0.0001, LR=0.01\n",
            "Hit Rate: 41.5695 \tMRR: 0.0661 \tNDCG: 0.1169\n",
            "\n",
            "Params: Loss Fn=warp, Epochs=100, L2=0.0001, LR=0.05\n",
            "Hit Rate: 41.3574 \tMRR: 0.0601 \tNDCG: 0.1140\n",
            "\n",
            "Params: Loss Fn=warp, Epochs=100, L2=0.0001, LR=0.05\n",
            "Hit Rate: 40.6151 \tMRR: 0.0544 \tNDCG: 0.1096\n",
            "\n",
            "Params: Loss Fn=warp, Epochs=100, L2=0.0001, LR=0.05\n",
            "Hit Rate: 41.1453 \tMRR: 0.0605 \tNDCG: 0.1136\n",
            "\n",
            "Params: Loss Fn=warp, Epochs=100, L2=0.0001, LR=0.05\n",
            "Hit Rate: 40.0848 \tMRR: 0.0547 \tNDCG: 0.1084\n",
            "\n",
            "Params: Loss Fn=warp, Epochs=100, L2=0.0001, LR=0.05\n",
            "Hit Rate: 41.5695 \tMRR: 0.0588 \tNDCG: 0.1132\n",
            "\n",
            "Params: Loss Fn=warp, Epochs=100, L2=0.0001, LR=0.05\n",
            "Hit Rate: 39.0244 \tMRR: 0.0522 \tNDCG: 0.1066\n",
            "\n",
            "Params: Loss Fn=warp, Epochs=100, L2=0.0001, LR=0.05\n",
            "Hit Rate: 39.4486 \tMRR: 0.0575 \tNDCG: 0.1090\n",
            "\n",
            "Params: Loss Fn=warp, Epochs=100, L2=0.0001, LR=0.05\n",
            "Hit Rate: 41.0392 \tMRR: 0.0536 \tNDCG: 0.1102\n",
            "\n",
            "Params: Loss Fn=warp, Epochs=100, L2=0.0001, LR=0.05\n",
            "Hit Rate: 39.4486 \tMRR: 0.0579 \tNDCG: 0.1095\n",
            "\n",
            "Params: Loss Fn=warp, Epochs=100, L2=0.0001, LR=0.05\n",
            "Hit Rate: 39.3425 \tMRR: 0.0579 \tNDCG: 0.1087\n",
            "\n",
            "Params: Loss Fn=warp, Epochs=50, L2=0.0001, LR=0.05\n",
            "Hit Rate: 41.7815 \tMRR: 0.0614 \tNDCG: 0.1150\n",
            "\n",
            "Params: Loss Fn=warp, Epochs=100, L2=0.0001, LR=0.05\n",
            "Hit Rate: 5.5143 \tMRR: 0.0035 \tNDCG: 0.0126\n",
            "\n",
            "Params: Loss Fn=logistic, Epochs=50, L2=0.0001, LR=0.05\n",
            "Hit Rate: 40.7211 \tMRR: 0.0557 \tNDCG: 0.1113\n",
            "\n",
            "Params: Loss Fn=warp, Epochs=100, L2=0.0001, LR=0.05\n",
            "Hit Rate: 41.2513 \tMRR: 0.0543 \tNDCG: 0.1107\n",
            "\n",
            "Params: Loss Fn=warp, Epochs=100, L2=0.0001, LR=0.05\n",
            "Hit Rate: 32.7678 \tMRR: 0.0490 \tNDCG: 0.0915\n",
            "\n",
            "Params: Loss Fn=bpr, Epochs=100, L2=0.0001, LR=0.05\n",
            "Hit Rate: 5.4083 \tMRR: 0.0035 \tNDCG: 0.0125\n",
            "\n",
            "Params: Loss Fn=logistic, Epochs=50, L2=0.0001, LR=0.05\n",
            "Hit Rate: 40.2969 \tMRR: 0.0521 \tNDCG: 0.1081\n",
            "\n",
            "Params: Loss Fn=warp, Epochs=100, L2=1e-06, LR=0.05\n",
            "Hit Rate: 32.2375 \tMRR: 0.0525 \tNDCG: 0.0924\n",
            "\n",
            "Params: Loss Fn=bpr, Epochs=100, L2=0.0001, LR=0.05\n",
            "Hit Rate: 38.4942 \tMRR: 0.0526 \tNDCG: 0.1050\n",
            "\n",
            "Params: Loss Fn=warp, Epochs=50, L2=0.0001, LR=0.05\n",
            "Hit Rate: 32.4496 \tMRR: 0.0464 \tNDCG: 0.0898\n",
            "\n",
            "Params: Loss Fn=bpr, Epochs=20, L2=1e-06, LR=0.05\n",
            "Hit Rate: 5.3022 \tMRR: 0.0034 \tNDCG: 0.0122\n",
            "\n",
            "Params: Loss Fn=logistic, Epochs=100, L2=0.0001, LR=0.05\n",
            "Hit Rate: 39.3425 \tMRR: 0.0554 \tNDCG: 0.1084\n",
            "\n",
            "Params: Loss Fn=warp, Epochs=100, L2=0.0001, LR=0.05\n",
            "Hit Rate: 16.0127 \tMRR: 0.0189 \tNDCG: 0.0422\n",
            "\n",
            "Params: Loss Fn=bpr, Epochs=20, L2=1e-06, LR=0.01\n",
            "Hit Rate: 5.4083 \tMRR: 0.0035 \tNDCG: 0.0125\n",
            "\n",
            "Params: Loss Fn=logistic, Epochs=50, L2=0.0001, LR=0.05\n",
            "Hit Rate: 40.4030 \tMRR: 0.0569 \tNDCG: 0.1094\n",
            "\n",
            "Params: Loss Fn=warp, Epochs=100, L2=1e-06, LR=0.05\n",
            "Hit Rate: 22.7996 \tMRR: 0.0267 \tNDCG: 0.0601\n",
            "\n",
            "Params: Loss Fn=warp, Epochs=20, L2=0.0001, LR=0.01\n",
            "Hit Rate: 34.2524 \tMRR: 0.0582 \tNDCG: 0.0980\n",
            "\n",
            "Params: Loss Fn=bpr, Epochs=100, L2=0.0001, LR=0.05\n",
            "Hit Rate: 33.4040 \tMRR: 0.0439 \tNDCG: 0.0902\n",
            "\n",
            "Params: Loss Fn=warp, Epochs=100, L2=1e-06, LR=0.01\n",
            "Hit Rate: 5.4083 \tMRR: 0.0035 \tNDCG: 0.0125\n",
            "\n",
            "Params: Loss Fn=logistic, Epochs=50, L2=0.0001, LR=0.05\n",
            "100%|██████████| 50/50 [04:30<00:00,  5.41s/it, best loss: -41.78154825026511]\n",
            "{'epochs': 2, 'l2': 0, 'loss_fn': 2, 'lr': 0}\n",
            "<hyperopt.base.Trials object at 0x7fb6b32fbb70>\n"
          ],
          "name": "stdout"
        }
      ]
    },
    {
      "cell_type": "code",
      "metadata": {
        "colab": {
          "base_uri": "https://localhost:8080/",
          "height": 365
        },
        "id": "L7opA9uc--W5",
        "outputId": "2f7686e5-3f17-4551-e29b-f26a4f8c103d"
      },
      "source": [
        "lr = ['5e-2', '1e-2']\n",
        "l2 = ['1e-4', '1e-6']\n",
        "epochs = ['20', '50', '100']\n",
        "loss_fn = ['bpr', 'logistic', 'warp']\n",
        "\n",
        "points = {}\n",
        "for t in trials_fm:\n",
        "  point = (lr[t['misc']['vals']['lr'][0]], l2[t['misc']['vals']['l2'][0]], epochs[t['misc']['vals']['epochs'][0]])\n",
        "  if not point in points:\n",
        "    points[point] = {}\n",
        "  loss_idx = loss_fn[t['misc']['vals']['loss_fn'][0]]\n",
        "  curr_hr = points[point][loss_idx] if loss_idx in points[point] else -1\n",
        "  points[point][loss_idx] = max([-t['result']['loss'], curr_hr])\n",
        "\n",
        "plot = {'x_labels': [f\"LR\\nL2\\nEpoch\"]}\n",
        "plot.update({fn: [[], []] for fn in loss_fn})\n",
        "\n",
        "best_hr = 0\n",
        "best_point = None\n",
        "best_loss_fn = None\n",
        "for idx, (k, v) in enumerate(points.items()):\n",
        "  plot['x_labels'].append(f\"{k[0]}\\n{k[1]}\\n{k[2]}\")\n",
        "  for fn, hr in v.items():\n",
        "    plot[fn][0].append(idx + 1)\n",
        "    plot[fn][1].append(hr)\n",
        "    if hr > best_hr:\n",
        "      best_point = idx + 1\n",
        "      best_hr = hr\n",
        "      best_loss_fn = fn\n",
        "\n",
        "plt.figure(figsize=(20, 5))\n",
        "offset = [-0.1, 0, 0.1]\n",
        "for fn, c, off in zip(loss_fn, ['#ff7f0e','#2ca02c','#1f77b4'], offset):\n",
        "  plt.bar(np.asarray(plot[fn][0]) + off, plot[fn][1], label=fn, width=0.1, color=c)\n",
        "plt.bar(best_point + offset[loss_fn.index(best_loss_fn)], best_hr, label='Best', width=0.1, color='r')\n",
        "plt.annotate(f\"{best_hr:.2f}%\", (best_point - 0.1, best_hr + 1.5), fontsize=12)\n",
        "plt.xticks(range(len(points) + 1), plot['x_labels'])\n",
        "plt.xlabel('Hyperparameters (Learning Rate, L2 Regulariazation, Epochs)', fontsize=14)\n",
        "plt.ylabel('Hit Rate @ 50', fontsize=14)\n",
        "plt.ylim((0, 50))\n",
        "_ = plt.legend()"
      ],
      "execution_count": null,
      "outputs": [
        {
          "output_type": "display_data",
          "data": {
            "image/png": "[encoded data removed]",
            "text/plain": [
              "<Figure size 1440x360 with 1 Axes>"
            ]
          },
          "metadata": {
            "tags": [],
            "needs_background": "light"
          }
        }
      ]
    },
    {
      "cell_type": "code",
      "metadata": {
        "colab": {
          "base_uri": "https://localhost:8080/"
        },
        "id": "LoyM871ivqhz",
        "outputId": "f6d33407-75a0-4c0a-960b-9e6f1de1ea17"
      },
      "source": [
        "def run_lightfm(loss_fn, l2, lr, eps, train_set, test_set, feature_set):\n",
        "  model = LightFM(loss=loss_fn, item_alpha=l2, learning_rate=lr)\n",
        "  model.fit(train_set, item_features=feature_set, epochs=eps, num_threads=2, verbose=False)\n",
        "  preds = model.predict_rank(test_set, train_interactions=train_set, item_features=feature_set)\n",
        "\n",
        "  hr, mrr, ndcg = 0.0, 0.0, 0.0\n",
        "  counter = 0\n",
        "  for u, i in zip(*test_set.nonzero()):\n",
        "    if preds[u, i] < 50 and preds[u, i] > 0:\n",
        "      hr += 1\n",
        "      mrr += (1/preds[u,i])\n",
        "      ndcg += (math.log(2) / math.log(preds[u, i] + 2))\n",
        "    counter += 1\n",
        "  hr = hr*100/counter\n",
        "  mrr = mrr/counter\n",
        "  ndcg = ndcg/counter\n",
        "\n",
        "  print(f'Hit Rate: {hr:.4f} \\tMRR: {mrr:.4f} \\tNDCG: {ndcg:.4f}\\n')\n",
        "  return hr, mrr, ndcg\n",
        "  \n",
        "def optimize_implicit(args):\n",
        "  hr, mrr, ndcg = run_lightfm(args['loss_fn'], args['l2'], args['lr'], args['epochs'], \n",
        "                               fm_train_for_val, fm_val, None)\n",
        "\n",
        "  print(f\"Params: Loss Fn={args['loss_fn']}, Epochs={args['epochs']}, L2={args['l2']}, LR={args['lr']}\")\n",
        "  return -hr\n",
        "\n",
        "space = {\n",
        "    'loss_fn': hp.choice('loss_fn', ['bpr', 'logistic', 'warp']),\n",
        "    'lr': hp.choice('lr', [0.05, 0.01, 0.005, 0.001]),\n",
        "    'l2': hp.choice('l2', [0, 1e-3, 1e-4, 1e-6]),\n",
        "    'epochs': hp.choice('epochs', [10, 20, 50, 100])\n",
        "}\n",
        "# best = {'epochs': 2, 'l2': 1, 'loss_fn': 2, 'lr': 0}\n",
        "\n",
        "trials_imp = Trials()\n",
        "best_imp = fmin(optimize_implicit, space=space, algo=tpe.suggest, max_evals=50, trials=trials_imp)\n",
        "print(best_imp)\n",
        "print(trials_imp)"
      ],
      "execution_count": null,
      "outputs": [
        {
          "output_type": "stream",
          "text": [
            "Hit Rate: 29.4804 \tMRR: 0.0422 \tNDCG: 0.0814\n",
            "\n",
            "Params: Loss Fn=bpr, Epochs=50, L2=0.0001, LR=0.01\n",
            "Hit Rate: 19.7243 \tMRR: 0.0223 \tNDCG: 0.0516\n",
            "\n",
            "Params: Loss Fn=warp, Epochs=10, L2=0.0001, LR=0.005\n",
            "Hit Rate: 21.4210 \tMRR: 0.0272 \tNDCG: 0.0579\n",
            "\n",
            "Params: Loss Fn=warp, Epochs=20, L2=0.001, LR=0.001\n",
            "Hit Rate: 31.1771 \tMRR: 0.0430 \tNDCG: 0.0848\n",
            "\n",
            "Params: Loss Fn=warp, Epochs=50, L2=0, LR=0.01\n",
            "Hit Rate: 33.0859 \tMRR: 0.0408 \tNDCG: 0.0873\n",
            "\n",
            "Params: Loss Fn=bpr, Epochs=100, L2=1e-06, LR=0.01\n",
            "Hit Rate: 18.1336 \tMRR: 0.0242 \tNDCG: 0.0486\n",
            "\n",
            "Params: Loss Fn=bpr, Epochs=10, L2=0, LR=0.005\n",
            "Hit Rate: 23.7540 \tMRR: 0.0322 \tNDCG: 0.0637\n",
            "\n",
            "Params: Loss Fn=logistic, Epochs=100, L2=0, LR=0.01\n",
            "Hit Rate: 40.4030 \tMRR: 0.0550 \tNDCG: 0.1096\n",
            "\n",
            "Params: Loss Fn=warp, Epochs=100, L2=1e-06, LR=0.05\n",
            "Hit Rate: 27.5716 \tMRR: 0.0352 \tNDCG: 0.0743\n",
            "\n",
            "Params: Loss Fn=bpr, Epochs=100, L2=0.0001, LR=0.005\n",
            "Hit Rate: 21.8452 \tMRR: 0.0262 \tNDCG: 0.0585\n",
            "\n",
            "Params: Loss Fn=logistic, Epochs=20, L2=0.001, LR=0.01\n",
            "Hit Rate: 23.4358 \tMRR: 0.0301 \tNDCG: 0.0624\n",
            "\n",
            "Params: Loss Fn=logistic, Epochs=100, L2=0, LR=0.01\n",
            "Hit Rate: 21.8452 \tMRR: 0.0238 \tNDCG: 0.0572\n",
            "\n",
            "Params: Loss Fn=logistic, Epochs=10, L2=0.001, LR=0.005\n",
            "Hit Rate: 25.2386 \tMRR: 0.0379 \tNDCG: 0.0700\n",
            "\n",
            "Params: Loss Fn=bpr, Epochs=50, L2=0.001, LR=0.005\n",
            "Hit Rate: 23.8600 \tMRR: 0.0329 \tNDCG: 0.0643\n",
            "\n",
            "Params: Loss Fn=logistic, Epochs=100, L2=0.0001, LR=0.01\n",
            "Hit Rate: 29.1622 \tMRR: 0.0461 \tNDCG: 0.0828\n",
            "\n",
            "Params: Loss Fn=bpr, Epochs=10, L2=0.0001, LR=0.05\n",
            "Hit Rate: 29.7985 \tMRR: 0.0392 \tNDCG: 0.0803\n",
            "\n",
            "Params: Loss Fn=bpr, Epochs=50, L2=0, LR=0.005\n",
            "Hit Rate: 23.4358 \tMRR: 0.0361 \tNDCG: 0.0650\n",
            "\n",
            "Params: Loss Fn=warp, Epochs=50, L2=0.001, LR=0.005\n",
            "Hit Rate: 18.5578 \tMRR: 0.0245 \tNDCG: 0.0499\n",
            "\n",
            "Params: Loss Fn=bpr, Epochs=100, L2=0, LR=0.001\n",
            "Hit Rate: 30.3287 \tMRR: 0.0410 \tNDCG: 0.0821\n",
            "\n",
            "Params: Loss Fn=warp, Epochs=50, L2=1e-06, LR=0.01\n",
            "Hit Rate: 23.1177 \tMRR: 0.0275 \tNDCG: 0.0609\n",
            "\n",
            "Params: Loss Fn=warp, Epochs=20, L2=0.001, LR=0.01\n",
            "Hit Rate: 40.1909 \tMRR: 0.0541 \tNDCG: 0.1101\n",
            "\n",
            "Params: Loss Fn=warp, Epochs=100, L2=1e-06, LR=0.05\n",
            "Hit Rate: 40.1909 \tMRR: 0.0550 \tNDCG: 0.1094\n",
            "\n",
            "Params: Loss Fn=warp, Epochs=100, L2=1e-06, LR=0.05\n",
            "Hit Rate: 41.2513 \tMRR: 0.0549 \tNDCG: 0.1130\n",
            "\n",
            "Params: Loss Fn=warp, Epochs=100, L2=1e-06, LR=0.05\n",
            "Hit Rate: 40.5090 \tMRR: 0.0502 \tNDCG: 0.1082\n",
            "\n",
            "Params: Loss Fn=warp, Epochs=100, L2=1e-06, LR=0.05\n",
            "Hit Rate: 40.0848 \tMRR: 0.0615 \tNDCG: 0.1126\n",
            "\n",
            "Params: Loss Fn=warp, Epochs=100, L2=1e-06, LR=0.05\n",
            "Hit Rate: 39.4486 \tMRR: 0.0591 \tNDCG: 0.1102\n",
            "\n",
            "Params: Loss Fn=warp, Epochs=100, L2=1e-06, LR=0.05\n",
            "Hit Rate: 38.1760 \tMRR: 0.0469 \tNDCG: 0.1017\n",
            "\n",
            "Params: Loss Fn=warp, Epochs=20, L2=1e-06, LR=0.05\n",
            "Hit Rate: 41.5695 \tMRR: 0.0604 \tNDCG: 0.1159\n",
            "\n",
            "Params: Loss Fn=warp, Epochs=100, L2=1e-06, LR=0.05\n",
            "Hit Rate: 19.7243 \tMRR: 0.0243 \tNDCG: 0.0527\n",
            "\n",
            "Params: Loss Fn=warp, Epochs=100, L2=1e-06, LR=0.001\n",
            "Hit Rate: 41.7815 \tMRR: 0.0586 \tNDCG: 0.1148\n",
            "\n",
            "Params: Loss Fn=warp, Epochs=100, L2=1e-06, LR=0.05\n",
            "Hit Rate: 35.5249 \tMRR: 0.0439 \tNDCG: 0.0943\n",
            "\n",
            "Params: Loss Fn=warp, Epochs=10, L2=1e-06, LR=0.05\n",
            "Hit Rate: 39.0244 \tMRR: 0.0521 \tNDCG: 0.1056\n",
            "\n",
            "Params: Loss Fn=warp, Epochs=20, L2=1e-06, LR=0.05\n",
            "Hit Rate: 21.3150 \tMRR: 0.0257 \tNDCG: 0.0567\n",
            "\n",
            "Params: Loss Fn=warp, Epochs=100, L2=0.0001, LR=0.001\n",
            "Hit Rate: 36.2672 \tMRR: 0.0495 \tNDCG: 0.0984\n",
            "\n",
            "Params: Loss Fn=warp, Epochs=10, L2=1e-06, LR=0.05\n",
            "Hit Rate: 23.6479 \tMRR: 0.0329 \tNDCG: 0.0641\n",
            "\n",
            "Params: Loss Fn=logistic, Epochs=100, L2=1e-06, LR=0.05\n",
            "Hit Rate: 37.6458 \tMRR: 0.0479 \tNDCG: 0.1010\n",
            "\n",
            "Params: Loss Fn=warp, Epochs=20, L2=1e-06, LR=0.05\n",
            "Hit Rate: 21.5270 \tMRR: 0.0260 \tNDCG: 0.0570\n",
            "\n",
            "Params: Loss Fn=warp, Epochs=100, L2=0.0001, LR=0.001\n",
            "Hit Rate: 39.9788 \tMRR: 0.0533 \tNDCG: 0.1086\n",
            "\n",
            "Params: Loss Fn=warp, Epochs=50, L2=1e-06, LR=0.05\n",
            "Hit Rate: 21.9512 \tMRR: 0.0247 \tNDCG: 0.0576\n",
            "\n",
            "Params: Loss Fn=logistic, Epochs=100, L2=0, LR=0.001\n",
            "Hit Rate: 32.6617 \tMRR: 0.0477 \tNDCG: 0.0900\n",
            "\n",
            "Params: Loss Fn=bpr, Epochs=10, L2=1e-06, LR=0.05\n",
            "Hit Rate: 41.2513 \tMRR: 0.0563 \tNDCG: 0.1126\n",
            "\n",
            "Params: Loss Fn=warp, Epochs=100, L2=0.0001, LR=0.05\n",
            "Hit Rate: 23.5419 \tMRR: 0.0298 \tNDCG: 0.0623\n",
            "\n",
            "Params: Loss Fn=logistic, Epochs=20, L2=0.001, LR=0.05\n",
            "Hit Rate: 27.1474 \tMRR: 0.0390 \tNDCG: 0.0748\n",
            "\n",
            "Params: Loss Fn=warp, Epochs=100, L2=0, LR=0.005\n",
            "Hit Rate: 31.0710 \tMRR: 0.0392 \tNDCG: 0.0831\n",
            "\n",
            "Params: Loss Fn=bpr, Epochs=50, L2=1e-06, LR=0.01\n",
            "Hit Rate: 22.9056 \tMRR: 0.0278 \tNDCG: 0.0607\n",
            "\n",
            "Params: Loss Fn=logistic, Epochs=10, L2=0.001, LR=0.05\n",
            "Hit Rate: 24.9205 \tMRR: 0.0359 \tNDCG: 0.0686\n",
            "\n",
            "Params: Loss Fn=warp, Epochs=100, L2=0.0001, LR=0.005\n",
            "Hit Rate: 18.4517 \tMRR: 0.0256 \tNDCG: 0.0501\n",
            "\n",
            "Params: Loss Fn=bpr, Epochs=100, L2=0, LR=0.001\n",
            "Hit Rate: 39.9788 \tMRR: 0.0541 \tNDCG: 0.1094\n",
            "\n",
            "Params: Loss Fn=warp, Epochs=50, L2=1e-06, LR=0.05\n",
            "Hit Rate: 23.6479 \tMRR: 0.0302 \tNDCG: 0.0629\n",
            "\n",
            "Params: Loss Fn=logistic, Epochs=100, L2=1e-06, LR=0.01\n",
            "Hit Rate: 18.6638 \tMRR: 0.0237 \tNDCG: 0.0497\n",
            "\n",
            "Params: Loss Fn=bpr, Epochs=20, L2=0.001, LR=0.005\n",
            "100%|██████████| 50/50 [02:41<00:00,  3.23s/it, best loss: -41.78154825026511]\n",
            "{'epochs': 3, 'l2': 3, 'loss_fn': 2, 'lr': 0}\n",
            "<hyperopt.base.Trials object at 0x7fb6bbe63cf8>\n"
          ],
          "name": "stdout"
        }
      ]
    },
    {
      "cell_type": "code",
      "metadata": {
        "colab": {
          "base_uri": "https://localhost:8080/",
          "height": 365
        },
        "id": "VoJ5aLLtF6wA",
        "outputId": "a3543900-78b6-4cdb-fff0-2dff39cb72db"
      },
      "source": [
        "lr = ['5e-2', '1e-2', '5e-3', '1e-3']\n",
        "l2 = ['0', '1e-3', '1e-4', '1e-6']\n",
        "epochs = ['10', '20', '50', '100']\n",
        "loss_fn = ['bpr', 'logistic', 'warp']\n",
        "\n",
        "points = {}\n",
        "for t in trials_imp:\n",
        "  point = (lr[t['misc']['vals']['lr'][0]], l2[t['misc']['vals']['l2'][0]], epochs[t['misc']['vals']['epochs'][0]])\n",
        "  if not point in points:\n",
        "    points[point] = {}\n",
        "  loss_idx = loss_fn[t['misc']['vals']['loss_fn'][0]]\n",
        "  curr_hr = points[point][loss_idx] if loss_idx in points[point] else -1\n",
        "  points[point][loss_idx] = max([-t['result']['loss'], curr_hr])\n",
        "\n",
        "\n",
        "plot = {'x_labels': [f\"LR\\nL2\\nEpoch\"]}\n",
        "plot.update({fn: [[], []] for fn in loss_fn})\n",
        "\n",
        "best_hr = 0\n",
        "best_point = None\n",
        "best_loss_fn = None\n",
        "for idx, (k, v) in enumerate(points.items()):\n",
        "  plot['x_labels'].append(f\"{k[0]}\\n{k[1]}\\n{k[2]}\")\n",
        "  for fn, hr in v.items():\n",
        "    plot[fn][0].append(idx + 1)\n",
        "    plot[fn][1].append(hr)\n",
        "    if hr > best_hr:\n",
        "      best_point = idx + 1\n",
        "      best_hr = hr\n",
        "      best_loss_fn = fn\n",
        "\n",
        "plt.figure(figsize=(20, 5))\n",
        "offset = [-0.2, 0, 0.2]\n",
        "for fn, c, off in zip(loss_fn, ['#ff7f0e','#2ca02c','#1f77b4'], offset):\n",
        "  plt.bar(np.asarray(plot[fn][0]) + off, plot[fn][1], label=fn, width=0.2, color=c)\n",
        "plt.bar(best_point + offset[loss_fn.index(best_loss_fn)], best_hr, label='Best', width=0.2, color='r')\n",
        "plt.annotate(f\"{best_hr:.2f}%\", (best_point - 0.65, best_hr + 1.4), fontsize=12)\n",
        "plt.xticks(range(len(points) + 1), plot['x_labels'])\n",
        "plt.xlabel('Hyperparameters (Learning Rate, L2 Regulariazation, Epochs)', fontsize=14)\n",
        "plt.ylabel('Hit Rate @ 50', fontsize=14)\n",
        "plt.ylim((0, 50))\n",
        "_ = plt.legend()"
      ],
      "execution_count": null,
      "outputs": [
        {
          "output_type": "display_data",
          "data": {
            "image/png": "[encoded data removed]",
            "text/plain": [
              "<Figure size 1440x360 with 1 Axes>"
            ]
          },
          "metadata": {
            "tags": [],
            "needs_background": "light"
          }
        }
      ]
    },
    {
      "cell_type": "code",
      "metadata": {
        "colab": {
          "base_uri": "https://localhost:8080/"
        },
        "id": "oc5nDqjFwOZQ",
        "outputId": "630ee98d-3ba8-468c-845e-3439c7b6341e"
      },
      "source": [
        "# '''\n",
        "# LightFM with attributes on test set\n",
        "# '''\n",
        "# print('WITH ITEM ATTRIBUTES')\n",
        "# hr, mrr, ndcg = run_lightfm('warp', 0, 0.05, 100,\n",
        "#                                fm_train, fm_test, fm_item_features)\n",
        "\n",
        "# '''\n",
        "# LightFM without attributes on test set\n",
        "# '''\n",
        "# print('NO ITEM ATTRIBUTES')\n",
        "# hr, mrr, ndcg = run_lightfm('warp', 0, 0.05, 100,\n",
        "#                                fm_train, fm_test, None)\n",
        "\n",
        "# WITH ITEM ATTRIBUTES\n",
        "# Hit Rate: 37.2216 \tMRR: 0.0620 \tNDCG: 0.1075\n",
        "\n",
        "# NO ITEM ATTRIBUTES\n",
        "# Hit Rate: 36.5854 \tMRR: 0.0559 \tNDCG: 0.1026\n",
        "\n",
        "'''\n",
        "LightFM with attributes on test set\n",
        "'''\n",
        "print('WITH ITEM ATTRIBUTES')\n",
        "hr, mrr, ndcg = run_lightfm('warp', 1e-4, 0.05, 100,\n",
        "                               fm_train, fm_test, fm_item_features)\n",
        "\n",
        "'''\n",
        "LightFM without attributes on test set\n",
        "'''\n",
        "print('NO ITEM ATTRIBUTES')\n",
        "hr, mrr, ndcg = run_lightfm('warp', 1e-6, 0.05, 100,\n",
        "                               fm_train, fm_test, None)"
      ],
      "execution_count": null,
      "outputs": [
        {
          "output_type": "stream",
          "text": [
            "WITH ITEM ATTRIBUTES\n",
            "Hit Rate: 36.3733 \tMRR: 0.0581 \tNDCG: 0.1035\n",
            "\n",
            "NO ITEM ATTRIBUTES\n",
            "Hit Rate: 35.7370 \tMRR: 0.0540 \tNDCG: 0.1006\n",
            "\n"
          ],
          "name": "stdout"
        }
      ]
    },
    {
      "cell_type": "code",
      "metadata": {
        "id": "SvUndof9Q4PT",
        "colab": {
          "base_uri": "https://localhost:8080/"
        },
        "outputId": "3503c3fd-f042-41aa-9376-1efd6f1b3b3f"
      },
      "source": [
        "transition_mat = np.zeros((data_train['itemId'].max() + 1,\n",
        "                           data_train['itemId'].max() + 1))\n",
        "\n",
        "# Movies seen by User in training\n",
        "seen_movies = data_train.groupby(by='userId')['itemId'].apply(list).to_dict()\n",
        "\n",
        "# Creating a markov chain for movie transitions (Ranking)\n",
        "for _, grp in data_train.groupby('userId'):\n",
        "  items = grp['itemId'].tolist()\n",
        "  for i in range(len(items) - 1):\n",
        "    transition_mat[items[i]][items[i+1]] += 1\n",
        "\n",
        "last_items = data_train.groupby(by='userId').tail(1)\n",
        "last_items = dict(zip(last_items['userId'].tolist(), last_items['itemId'].tolist()))\n",
        "\n",
        "# Conditional Probability Model\n",
        "cp_preds = {} \n",
        "for u, i in last_items.items():\n",
        "  preds = np.copy(transition_mat[i])\n",
        "  cp_preds[u] = np.argsort(preds)[::-1][:50]\n",
        "print('-------------Conditional Probability--------')\n",
        "print_scores(spotlight_test.user_ids, spotlight_test.item_ids, cp_preds)\n",
        "\n",
        "# Conditional Probability Model without Seen\n",
        "cp_preds = {} \n",
        "for u, i in last_items.items():\n",
        "  preds = np.copy(transition_mat[i])\n",
        "  preds[seen_movies[u]] = 0\n",
        "  cp_preds[u] = np.argsort(preds)[::-1][:50]\n",
        "print('-------------Conditional Probability w/o Seen--------')\n",
        "print_scores(spotlight_test.user_ids, spotlight_test.item_ids, cp_preds)"
      ],
      "execution_count": null,
      "outputs": [
        {
          "output_type": "stream",
          "text": [
            "-------------Conditional Probability--------\n",
            "Hit Rate (%): 27.465535524920465\n",
            "MRR: 0.0489\n",
            "NDCG: 0.0930\n",
            "\n",
            "-------------Conditional Probability w/o Seen--------\n",
            "Hit Rate (%): 29.90455991516437\n",
            "MRR: 0.0662\n",
            "NDCG: 0.1126\n",
            "\n"
          ],
          "name": "stdout"
        },
        {
          "output_type": "execute_result",
          "data": {
            "text/plain": [
              "(29.90455991516437, 0.0662424416028655, 0.11260140238674064)"
            ]
          },
          "metadata": {
            "tags": []
          },
          "execution_count": 95
        }
      ]
    },
    {
      "cell_type": "code",
      "metadata": {
        "colab": {
          "base_uri": "https://localhost:8080/"
        },
        "id": "HegwTtyX6Q9P",
        "outputId": "9818857d-04d5-425b-dfc8-f206161765fa"
      },
      "source": [
        "# print(data_val.head())\n",
        "print(last_items)\n",
        "print(seen_movies[1][-5:])"
      ],
      "execution_count": null,
      "outputs": [
        {
          "output_type": "stream",
          "text": [
            "{1: 74, 2: 314, 3: 317, 4: 294, 5: 442, 6: 465, 7: 357, 8: 227, 9: 487, 10: 294, 11: 51, 12: 88, 13: 914, 14: 750, 15: 931, 16: 404, 17: 508, 18: 923, 19: 211, 20: 94, 21: 573, 22: 29, 23: 315, 24: 742, 25: 1, 26: 181, 27: 370, 28: 678, 29: 1019, 30: 683, 31: 498, 32: 628, 33: 323, 34: 289, 35: 332, 36: 878, 37: 172, 38: 672, 39: 748, 40: 343, 41: 1, 42: 845, 43: 316, 44: 176, 45: 820, 46: 50, 47: 995, 48: 98, 49: 403, 50: 544, 51: 679, 52: 204, 53: 546, 54: 634, 55: 89, 56: 395, 57: 56, 58: 191, 59: 243, 60: 15, 61: 342, 62: 401, 63: 79, 64: 231, 65: 185, 66: 249, 67: 833, 68: 409, 69: 12, 70: 408, 71: 197, 72: 479, 73: 246, 74: 13, 75: 190, 76: 582, 77: 97, 78: 411, 79: 370, 80: 237, 81: 544, 82: 834, 83: 406, 84: 98, 85: 182, 86: 270, 87: 87, 88: 1191, 89: 301, 90: 385, 91: 418, 92: 1023, 93: 934, 94: 302, 95: 78, 96: 1154, 97: 663, 98: 629, 99: 275, 100: 326, 101: 546, 102: 1052, 103: 96, 104: 827, 105: 264, 106: 275, 107: 259, 108: 121, 109: 395, 110: 364, 111: 305, 112: 891, 113: 979, 114: 522, 115: 178, 116: 344, 117: 410, 118: 234, 119: 916, 120: 508, 121: 472, 122: 1168, 123: 255, 124: 195, 125: 383, 126: 266, 127: 450, 128: 684, 129: 990, 130: 272, 131: 9, 132: 285, 133: 243, 134: 508, 135: 554, 136: 89, 137: 261, 138: 238, 139: 458, 140: 304, 141: 300, 142: 7, 143: 347, 144: 480, 145: 347, 146: 315, 147: 270, 148: 1012, 149: 689, 150: 121, 151: 966, 152: 272, 153: 187, 154: 202, 155: 325, 156: 22, 157: 407, 158: 70, 159: 881, 160: 328, 161: 1117, 162: 230, 163: 216, 164: 407, 165: 187, 166: 343, 167: 435, 168: 252, 169: 234, 170: 304, 171: 1022, 172: 582, 173: 329, 174: 13, 175: 12, 176: 129, 177: 92, 178: 342, 179: 307, 180: 961, 181: 1052, 182: 111, 183: 720, 184: 170, 185: 116, 186: 177, 187: 275, 188: 216, 189: 512, 190: 823, 191: 339, 192: 1171, 193: 187, 194: 1408, 195: 591, 196: 94, 197: 29, 198: 652, 199: 14, 200: 743, 201: 272, 202: 191, 203: 993, 204: 9, 205: 748, 206: 1432, 207: 177, 208: 739, 209: 688, 210: 72, 211: 455, 212: 87, 213: 176, 214: 173, 215: 159, 216: 315, 217: 391, 218: 164, 219: 906, 220: 343, 221: 751, 222: 407, 223: 216, 224: 239, 225: 1203, 226: 1117, 227: 321, 228: 204, 229: 896, 230: 420, 231: 300, 232: 150, 233: 269, 234: 648, 235: 52, 236: 510, 237: 185, 238: 1258, 239: 269, 240: 349, 241: 689, 242: 331, 243: 157, 244: 1054, 245: 240, 246: 260, 247: 70, 248: 405, 249: 210, 250: 248, 251: 978, 252: 410, 253: 685, 254: 258, 255: 743, 256: 387, 257: 245, 258: 873, 259: 39, 260: 334, 261: 125, 262: 923, 263: 237, 264: 1355, 265: 282, 266: 9, 267: 1240, 268: 735, 269: 108, 270: 563, 271: 472, 272: 514, 273: 316, 274: 629, 275: 423, 276: 915, 277: 221, 278: 22, 279: 230, 280: 1217, 281: 323, 282: 325, 283: 49, 284: 938, 285: 198, 286: 139, 287: 100, 288: 197, 289: 363, 290: 1079, 291: 582, 292: 631, 293: 1209, 294: 520, 295: 52, 296: 204, 297: 750, 298: 294, 299: 916, 300: 833, 301: 217, 302: 266, 303: 1089, 304: 763, 305: 163, 306: 1514, 307: 313, 308: 122, 309: 324, 310: 257, 311: 276, 312: 234, 313: 1210, 314: 1291, 315: 340, 316: 174, 317: 678, 318: 795, 319: 261, 320: 433, 321: 1050, 322: 50, 323: 238, 324: 827, 325: 1003, 326: 564, 327: 1100, 328: 912, 329: 245, 330: 422, 331: 304, 332: 728, 333: 255, 334: 708, 335: 260, 336: 288, 337: 879, 338: 175, 339: 194, 340: 504, 341: 330, 342: 382, 343: 81, 344: 1014, 345: 244, 346: 1217, 347: 926, 348: 834, 349: 847, 350: 195, 351: 1105, 352: 234, 353: 750, 354: 88, 355: 242, 356: 316, 357: 932, 358: 318, 359: 270, 360: 172, 361: 269, 362: 683, 363: 859, 364: 1048, 365: 762, 366: 773, 367: 443, 368: 183, 369: 900, 370: 209, 371: 452, 372: 1273, 373: 1133, 374: 291, 375: 1217, 376: 762, 377: 219, 378: 328, 379: 701, 380: 1039, 381: 259, 382: 334, 383: 488, 384: 271, 385: 1103, 386: 833, 387: 952, 388: 678, 389: 1298, 390: 283, 391: 924, 392: 285, 393: 302, 394: 230, 395: 1060, 396: 840, 397: 748, 398: 227, 399: 284, 400: 343, 401: 473, 402: 510, 403: 476, 404: 66, 405: 351, 406: 491, 407: 269, 408: 748, 409: 285, 410: 905, 411: 603, 412: 206, 413: 25, 414: 433, 415: 480, 416: 942, 417: 818, 418: 288, 419: 181, 420: 288, 421: 427, 422: 370, 423: 823, 424: 15, 425: 83, 426: 505, 427: 289, 428: 326, 429: 174, 430: 168, 431: 538, 432: 322, 433: 919, 434: 546, 435: 354, 436: 441, 437: 955, 438: 476, 439: 1328, 440: 921, 441: 15, 442: 450, 443: 644, 444: 678, 445: 1143, 446: 888, 447: 1046, 448: 884, 449: 268, 450: 749, 451: 948, 452: 216, 453: 586, 454: 627, 455: 289, 456: 346, 457: 405, 458: 847, 459: 216, 460: 1380, 461: 285, 462: 271, 463: 50, 464: 194, 465: 404, 466: 173, 467: 240, 468: 226, 469: 10, 470: 248, 471: 151, 472: 402, 473: 547, 474: 285, 475: 316, 476: 245, 477: 546, 478: 403, 479: 154, 480: 642, 481: 780, 482: 298, 483: 743, 484: 275, 485: 341, 486: 1120, 487: 272, 488: 480, 489: 892, 490: 547, 491: 294, 492: 527, 493: 411, 494: 15, 495: 86, 496: 771, 497: 1555, 498: 448, 499: 902, 500: 242, 501: 1534, 502: 243, 503: 778, 504: 125, 505: 692, 506: 1089, 507: 405, 508: 228, 509: 181, 510: 881, 511: 678, 512: 23, 513: 435, 514: 313, 515: 905, 516: 169, 517: 748, 518: 595, 519: 330, 520: 871, 521: 2, 522: 200, 523: 42, 524: 410, 525: 106, 526: 1007, 527: 183, 528: 423, 529: 875, 530: 1136, 531: 890, 532: 531, 533: 303, 534: 1047, 535: 498, 536: 54, 537: 550, 538: 527, 539: 285, 540: 280, 541: 225, 542: 230, 543: 252, 544: 338, 545: 139, 546: 567, 547: 319, 548: 978, 549: 1047, 550: 237, 551: 780, 552: 1095, 553: 484, 554: 1028, 555: 265, 556: 493, 557: 288, 558: 285, 559: 502, 560: 1215, 561: 304, 562: 88, 563: 153, 564: 257, 565: 1018, 566: 110, 567: 1252, 568: 529, 569: 1014, 570: 321, 571: 114, 572: 924, 573: 205, 574: 213, 575: 168, 576: 324, 577: 307, 578: 1098, 579: 1074, 580: 151, 581: 919, 582: 369, 583: 357, 584: 450, 585: 584, 586: 3, 587: 351, 588: 67, 589: 892, 590: 275, 591: 4, 592: 344, 593: 245, 594: 269, 595: 547, 596: 276, 597: 118, 598: 538, 599: 245, 600: 759, 601: 431, 602: 117, 603: 923, 604: 567, 605: 408, 606: 1151, 607: 56, 608: 658, 609: 1012, 610: 673, 611: 324, 612: 202, 613: 1, 614: 717, 615: 629, 616: 355, 617: 567, 618: 144, 619: 53, 620: 94, 621: 333, 622: 769, 623: 194, 624: 687, 625: 210, 626: 272, 627: 808, 628: 258, 629: 381, 630: 568, 631: 338, 632: 877, 633: 423, 634: 269, 635: 117, 636: 106, 637: 717, 638: 204, 639: 958, 640: 1228, 641: 209, 642: 862, 643: 262, 644: 871, 645: 660, 646: 892, 647: 203, 648: 441, 649: 1244, 650: 80, 651: 322, 652: 395, 653: 272, 654: 678, 655: 1268, 656: 689, 657: 118, 658: 273, 659: 402, 660: 106, 661: 310, 662: 246, 663: 655, 664: 317, 665: 313, 666: 792, 667: 168, 668: 355, 669: 191, 670: 98, 671: 219, 672: 1061, 673: 528, 674: 111, 675: 223, 676: 132, 677: 91, 678: 117, 679: 109, 680: 815, 681: 294, 682: 699, 683: 588, 684: 401, 685: 875, 686: 1184, 687: 988, 688: 338, 689: 328, 690: 51, 691: 170, 692: 1054, 693: 289, 694: 179, 695: 323, 696: 124, 697: 1160, 698: 607, 699: 300, 700: 168, 701: 237, 702: 449, 703: 591, 704: 131, 705: 196, 706: 148, 707: 1024, 708: 742, 709: 203, 710: 265, 711: 909, 712: 142, 713: 307, 714: 300, 715: 1045, 716: 142, 717: 298, 718: 751, 719: 281, 720: 316, 721: 204, 722: 13, 723: 322, 724: 286, 725: 879, 726: 117, 727: 826, 728: 147, 729: 300, 730: 742, 731: 1269, 732: 294, 733: 546, 734: 15, 735: 117, 736: 127, 737: 187, 738: 211, 739: 97, 740: 340, 741: 1152, 742: 250, 743: 298, 744: 628, 745: 275, 746: 168, 747: 555, 748: 213, 749: 1089, 750: 358, 751: 917, 752: 589, 753: 673, 754: 922, 755: 259, 756: 251, 757: 1035, 758: 270, 759: 471, 760: 375, 761: 291, 762: 709, 763: 1039, 764: 14, 765: 42, 766: 577, 767: 495, 768: 354, 769: 1322, 770: 326, 771: 892, 772: 312, 773: 59, 774: 920, 775: 264, 776: 648, 777: 692, 778: 262, 779: 252, 780: 526, 781: 64, 782: 1257, 783: 343, 784: 898, 785: 152, 786: 228, 787: 245, 788: 1183, 789: 742, 790: 250, 791: 50, 792: 1, 793: 591, 794: 257, 795: 405, 796: 855, 797: 340, 798: 690, 799: 427, 800: 25, 801: 358, 802: 424, 803: 305, 804: 554, 805: 1105, 806: 233, 807: 1138, 808: 327, 809: 678, 810: 331, 811: 678, 812: 873, 813: 892, 814: 635, 815: 528, 816: 309, 817: 597, 818: 875, 819: 345, 820: 748, 821: 70, 822: 235, 823: 333, 824: 989, 825: 111, 826: 1110, 827: 347, 828: 70, 829: 275, 830: 402, 831: 284, 832: 50, 833: 802, 834: 15, 835: 237, 836: 174, 837: 717, 838: 143, 839: 130, 840: 1214, 841: 888, 842: 349, 843: 1411, 844: 921, 845: 286, 846: 452, 847: 79, 848: 732, 849: 676, 850: 648, 851: 1013, 852: 506, 853: 1025, 854: 275, 855: 509, 856: 678, 857: 20, 858: 333, 859: 381, 860: 257, 861: 26, 862: 1110, 863: 1234, 864: 250, 865: 245, 866: 319, 867: 956, 868: 449, 869: 151, 870: 272, 871: 97, 872: 332, 873: 258, 874: 514, 875: 479, 876: 48, 877: 226, 878: 234, 879: 276, 880: 762, 881: 831, 882: 393, 883: 273, 884: 1018, 885: 417, 886: 940, 887: 1035, 888: 535, 889: 1110, 890: 163, 891: 281, 892: 68, 893: 815, 894: 902, 895: 151, 896: 760, 897: 646, 898: 689, 899: 29, 900: 31, 901: 476, 902: 204, 903: 98, 904: 421, 905: 1011, 906: 696, 907: 332, 908: 434, 909: 14, 910: 288, 911: 727, 912: 15, 913: 346, 914: 739, 915: 334, 916: 528, 917: 9, 918: 143, 919: 596, 920: 299, 921: 526, 922: 834, 923: 174, 924: 277, 925: 563, 926: 322, 927: 1016, 928: 333, 929: 419, 930: 210, 931: 272, 932: 614, 933: 391, 934: 972, 935: 120, 936: 1129, 937: 295, 938: 1283, 939: 931, 940: 355, 941: 15, 942: 31, 943: 228}\n",
            "[171, 111, 256, 5, 74]\n"
          ],
          "name": "stdout"
        }
      ]
    },
    {
      "cell_type": "code",
      "metadata": {
        "colab": {
          "base_uri": "https://localhost:8080/"
        },
        "id": "fql6ytqE9DlU",
        "outputId": "ca01c93f-2331-44ec-c7de-4a4db5610bf3"
      },
      "source": [
        "'''\n",
        "Explicit Feedback Movie Recommendations \n",
        "Rating Model\n",
        "Made popular by Netflix Prize - Simon Funk\n",
        "'''\n",
        "spotlight_train_for_val.ratings = spotlight_train_for_val.ratings.astype(float)\n",
        "spotlight_val.ratings = spotlight_val.ratings.astype(float)\n",
        "def optimize_explicit(args):\n",
        "  explicit_model = ExplicitFactorizationModel(loss=args['loss_fn'],\n",
        "                                   l2=args['l2'], \n",
        "                                   learning_rate=args['lr'],\n",
        "                                   n_iter=args['epochs'],\n",
        "                                   use_cuda=True)\n",
        "\n",
        "  print(f\"loss={args['loss_fn']}\\t epochs={args['epochs']}\\t l2={args['l2']}\\t lr={args['lr']}\")\n",
        "  explicit_model.fit(spotlight_train_for_val, verbose=False)\n",
        "  rmse = rmse_score(explicit_model, spotlight_val)\n",
        "  return rmse\n",
        "\n",
        "space = {\n",
        "    'loss_fn': hp.choice('loss_fn', ['regression', 'poisson', 'logistic']),\n",
        "    'lr': hp.choice('lr', [0.01, 0.005, 0.001]),\n",
        "    'l2': hp.choice('l2', [1e-3, 1e-4, 1e-6]),\n",
        "    'epochs': hp.choice('epochs', [5, 10, 20, 50])\n",
        "}\n",
        "\n",
        "trials_ex = Trials()\n",
        "best_ex = fmin(optimize_explicit, space=space, algo=tpe.suggest, max_evals=50, trials=trials_ex)\n",
        "print(best_ex)\n",
        "print(trials_ex)"
      ],
      "execution_count": null,
      "outputs": [
        {
          "output_type": "stream",
          "text": [
            "loss=poisson\t epochs=50\t l2=1e-06\t lr=0.005\n",
            "loss=logistic\t epochs=20\t l2=0.0001\t lr=0.001\n",
            "  2%|▏         | 1/50 [00:40<33:17, 40.77s/it, best loss: 1.4733928033484116]"
          ],
          "name": "stdout"
        },
        {
          "output_type": "stream",
          "text": [
            "/usr/local/lib/python3.6/dist-packages/torch/nn/_reduction.py:44: UserWarning: size_average and reduce args will be deprecated, please use reduction='mean' instead.\n",
            "  warnings.warn(warning.format(ret))\n",
            "\n"
          ],
          "name": "stderr"
        },
        {
          "output_type": "stream",
          "text": [
            "loss=logistic\t epochs=50\t l2=1e-06\t lr=0.005\n",
            "loss=poisson\t epochs=5\t l2=0.0001\t lr=0.005\n",
            "loss=poisson\t epochs=50\t l2=0.0001\t lr=0.01\n",
            "loss=regression\t epochs=50\t l2=0.0001\t lr=0.01\n",
            "loss=regression\t epochs=5\t l2=0.001\t lr=0.01\n",
            "loss=logistic\t epochs=50\t l2=1e-06\t lr=0.005\n",
            "loss=poisson\t epochs=5\t l2=0.001\t lr=0.01\n",
            "loss=regression\t epochs=50\t l2=0.001\t lr=0.01\n",
            "loss=logistic\t epochs=20\t l2=0.0001\t lr=0.005\n",
            "loss=regression\t epochs=20\t l2=0.001\t lr=0.005\n",
            "loss=regression\t epochs=20\t l2=0.001\t lr=0.005\n",
            "loss=poisson\t epochs=20\t l2=0.0001\t lr=0.005\n",
            "loss=regression\t epochs=5\t l2=1e-06\t lr=0.001\n",
            "loss=regression\t epochs=20\t l2=1e-06\t lr=0.001\n",
            "loss=regression\t epochs=10\t l2=0.001\t lr=0.001\n",
            "loss=poisson\t epochs=10\t l2=0.0001\t lr=0.01\n",
            "loss=poisson\t epochs=20\t l2=1e-06\t lr=0.005\n",
            "loss=regression\t epochs=50\t l2=0.0001\t lr=0.001\n",
            "loss=poisson\t epochs=20\t l2=1e-06\t lr=0.001\n",
            "loss=poisson\t epochs=20\t l2=1e-06\t lr=0.001\n",
            "loss=poisson\t epochs=20\t l2=1e-06\t lr=0.001\n",
            "loss=regression\t epochs=20\t l2=0.0001\t lr=0.001\n",
            "loss=regression\t epochs=10\t l2=0.0001\t lr=0.001\n",
            "loss=regression\t epochs=20\t l2=1e-06\t lr=0.001\n",
            "loss=regression\t epochs=20\t l2=1e-06\t lr=0.001\n",
            "loss=regression\t epochs=20\t l2=1e-06\t lr=0.001\n",
            "loss=regression\t epochs=10\t l2=1e-06\t lr=0.001\n",
            "loss=regression\t epochs=20\t l2=1e-06\t lr=0.001\n",
            "loss=logistic\t epochs=20\t l2=1e-06\t lr=0.001\n",
            "loss=regression\t epochs=20\t l2=1e-06\t lr=0.001\n",
            "loss=logistic\t epochs=5\t l2=1e-06\t lr=0.001\n",
            "loss=regression\t epochs=10\t l2=1e-06\t lr=0.001\n",
            "loss=logistic\t epochs=20\t l2=1e-06\t lr=0.001\n",
            "loss=regression\t epochs=5\t l2=1e-06\t lr=0.001\n",
            "loss=regression\t epochs=50\t l2=1e-06\t lr=0.01\n",
            "loss=regression\t epochs=20\t l2=1e-06\t lr=0.001\n",
            "loss=logistic\t epochs=20\t l2=0.001\t lr=0.01\n",
            "loss=regression\t epochs=50\t l2=1e-06\t lr=0.001\n",
            "loss=regression\t epochs=5\t l2=1e-06\t lr=0.01\n",
            "loss=logistic\t epochs=20\t l2=0.001\t lr=0.005\n",
            "loss=regression\t epochs=10\t l2=1e-06\t lr=0.001\n",
            "loss=regression\t epochs=50\t l2=0.001\t lr=0.005\n",
            "loss=regression\t epochs=20\t l2=1e-06\t lr=0.01\n",
            "loss=logistic\t epochs=5\t l2=0.0001\t lr=0.001\n",
            "loss=regression\t epochs=20\t l2=1e-06\t lr=0.005\n",
            "loss=poisson\t epochs=20\t l2=0.001\t lr=0.001\n",
            "loss=regression\t epochs=50\t l2=1e-06\t lr=0.01\n",
            "loss=regression\t epochs=5\t l2=0.0001\t lr=0.001\n",
            "100%|██████████| 50/50 [11:25<00:00, 13.70s/it, best loss: 0.9747476300095002]\n",
            "{'epochs': 2, 'l2': 2, 'loss_fn': 0, 'lr': 2}\n",
            "<hyperopt.base.Trials object at 0x7f7662ce1470>\n"
          ],
          "name": "stdout"
        }
      ]
    },
    {
      "cell_type": "code",
      "metadata": {
        "colab": {
          "base_uri": "https://localhost:8080/",
          "height": 361
        },
        "id": "JjFrxioXvm76",
        "outputId": "d4da61ce-4937-4233-c6b7-fb8afe60245b"
      },
      "source": [
        "lr = ['1e-2', '5e-3', '1e-3']\n",
        "l2 = ['1e-3', '1e-4', '1e-6']\n",
        "epochs = ['5', '10', '20', '50']\n",
        "loss_fn = ['regression', 'poisson', 'logistic']\n",
        "\n",
        "points = {}\n",
        "for t in trials_ex:\n",
        "  point = (lr[t['misc']['vals']['lr'][0]], l2[t['misc']['vals']['l2'][0]], epochs[t['misc']['vals']['epochs'][0]])\n",
        "  if not point in points:\n",
        "    points[point] = {}\n",
        "  loss_idx = loss_fn[t['misc']['vals']['loss_fn'][0]]\n",
        "  curr_rmse = points[point][loss_idx] if loss_idx in points[point] else float('inf')\n",
        "  points[point][loss_idx] = min([t['result']['loss'], curr_rmse])\n",
        "\n",
        "plot = {'x_labels': [f\"LR\\nL2\\nEpoch\"]}\n",
        "plot.update({fn: [[], []] for fn in loss_fn})\n",
        "\n",
        "best_rmse = float('inf')\n",
        "best_point = None\n",
        "best_loss_fn = None\n",
        "for idx, (k, v) in enumerate(points.items()):\n",
        "  plot['x_labels'].append(f\"{k[0]}\\n{k[1]}\\n{k[2]}\")\n",
        "  for fn, rmse in v.items():\n",
        "    plot[fn][0].append(idx + 1)\n",
        "    plot[fn][1].append(rmse)\n",
        "    if rmse < best_rmse:\n",
        "      best_point = idx + 1\n",
        "      best_rmse = rmse\n",
        "      best_loss_fn = fn\n",
        "\n",
        "\n",
        "plt.figure(figsize=(20, 5))\n",
        "offset = [-0.2, 0, 0.2]\n",
        "for fn, c, off in zip(loss_fn, ['#ff7f0e','#2ca02c','#1f77b4'], offset):\n",
        "  plt.bar(np.asarray(plot[fn][0]) + off, plot[fn][1], label=fn, width=0.2, color=c)\n",
        "plt.bar(best_point + offset[loss_fn.index(best_loss_fn)], best_rmse, label='Best', width=0.2, color='r')\n",
        "plt.annotate(f\"{best_rmse:.3f}\", (best_point - 0.6, best_rmse + 5e-2), fontsize=12)\n",
        "\n",
        "\n",
        "# for fn, c in zip(loss_fn, ['#2ca02c','#ff7f0e','#1f77b4']):\n",
        "#   plt.plot(plot[fn][0], plot[fn][1], '.-', label=fn, markersize=15, linewidth=2, color=c)\n",
        "# plt.scatter(best_point, best_rmse, label='Best', s=250, c='r')\n",
        "# plt.annotate(f\"{best_rmse:.3f}\", (best_point - 0.175, best_rmse + 1e-2), fontsize=12)\n",
        "plt.xticks(range(len(points) + 1), plot['x_labels'])\n",
        "plt.xlabel('Hyperparameters (Learning Rate, L2 Regulariazation, Epochs)', fontsize=14)\n",
        "plt.ylabel('Root Mean Square Error', fontsize=14)\n",
        "plt.legend()\n",
        "plt.show()"
      ],
      "execution_count": null,
      "outputs": [
        {
          "output_type": "display_data",
          "data": {
            "image/png": "[encoded data removed]",
            "text/plain": [
              "<Figure size 1440x360 with 1 Axes>"
            ]
          },
          "metadata": {
            "tags": [],
            "needs_background": "light"
          }
        }
      ]
    },
    {
      "cell_type": "code",
      "metadata": {
        "id": "kHtuRcnG6G53",
        "colab": {
          "base_uri": "https://localhost:8080/"
        },
        "outputId": "cb1c94da-6f26-4bc7-ba9e-92694ef0402f"
      },
      "source": [
        "def rating_scores(real, preds, show=True):\n",
        "  diff = np.abs(real - preds)\n",
        "  mae = np.average(diff)\n",
        "  rmse = math.sqrt(np.average(diff ** 2))\n",
        "  if show:\n",
        "    print(f'MAE: {mae:.4f}\\t RMSE: {rmse:.4f}')\n",
        "  return mae, rmse\n",
        "\n",
        "'''\n",
        "Rating Explicit Feedback Model scores\n",
        "'''\n",
        "explicit_model = ExplicitFactorizationModel(loss='regression',\n",
        "                                   l2=1e-6, \n",
        "                                   learning_rate=1e-3,\n",
        "                                   n_iter=20, use_cuda=False)\n",
        "\n",
        "explicit_model.fit(spotlight_train, verbose=False)\n",
        "\n",
        "ex_preds = []\n",
        "for uid, iid in zip(spotlight_test.user_ids, spotlight_test.item_ids):\n",
        "  ex_preds.append(explicit_model.predict(uid)[iid])\n",
        "print('Explicit feedback Rating')\n",
        "rating_scores(spotlight_test.ratings, np.array(ex_preds))\n",
        "\n",
        "'''\n",
        "Rating Baseline\n",
        "'''\n",
        "user_avg_rating = data_train.groupby(by='userId')['ratings'].mean()\n",
        "\n",
        "print('\\nUser Avg Rating')\n",
        "rating_scores(data_test['ratings'].to_numpy(), user_avg_rating.to_numpy())\n",
        "\n",
        "print('\\nGlobal Avg Rating')\n",
        "_ = rating_scores(data_test['ratings'].to_numpy(), np.ones_like(user_avg_rating)*data_train['ratings'].mean())\n"
      ],
      "execution_count": null,
      "outputs": [
        {
          "output_type": "stream",
          "text": [
            "Explicit feedback Rating\n",
            "MAE: 0.7913\t RMSE: 1.0191\n",
            "\n",
            "User Avg Rating\n",
            "MAE: 0.9185\t RMSE: 1.1563\n",
            "\n",
            "Global Avg Rating\n",
            "MAE: 1.0164\t RMSE: 1.2121\n"
          ],
          "name": "stdout"
        }
      ]
    },
    {
      "cell_type": "markdown",
      "metadata": {
        "id": "K6VjiYEGKOZn"
      },
      "source": [
        "Explicit feedback Rating\n",
        "MAE: 0.8041\t RMSE: 1.0266\n",
        "\n",
        "User Avg Rating\n",
        "MAE: 0.9185\t RMSE: 1.1563\n",
        "\n",
        "Global Avg Rating\n",
        "MAE: 1.0164\t RMSE: 1.2121"
      ]
    },
    {
      "cell_type": "code",
      "metadata": {
        "id": "o3N5zyBgWRsk"
      },
      "source": [
        "def get_top_n(preds, n=10):\n",
        "  return np.argsort(preds)[::-1][:n]\n",
        "\n",
        "def print_scores(test_user_ids, test_item_ids, preds, show=True):\n",
        "  hr = 0.0\n",
        "  mrr = 0.0\n",
        "  ndcg = 0.0\n",
        "  for u, i in zip(test_user_ids, test_item_ids):\n",
        "    temp_hr = int(i in preds[u])\n",
        "    if temp_hr:\n",
        "      rank = preds[u].tolist().index(i)\n",
        "      hr += 1\n",
        "      mrr += 1 / (rank + 1)\n",
        "      ndcg += (math.log(2) / math.log(rank + 2))\n",
        "\n",
        "  hr = (hr / len(test_user_ids)) * 100\n",
        "  mrr = mrr / len(test_user_ids)\n",
        "  ndcg = ndcg / len(test_user_ids)\n",
        "\n",
        "  if show:\n",
        "    print(f\"Hit Rate (%): {hr}\")\n",
        "    print(f\"MRR: {mrr:.4f}\")\n",
        "    print(f\"NDCG: {ndcg:.4f}\\n\")\n",
        "  return hr, mrr, ndcg"
      ],
      "execution_count": null,
      "outputs": []
    },
    {
      "cell_type": "code",
      "metadata": {
        "colab": {
          "base_uri": "https://localhost:8080/"
        },
        "id": "wBAXygPeYdfK",
        "outputId": "5a46337a-48aa-49f2-d0be-3a7d60672a44"
      },
      "source": [
        "# explicit_top_50 = {}\n",
        "# implicit_top_50 = {}\n",
        "\n",
        "# for uid in set(spotlight_train.user_ids):\n",
        "#   # explicit_scores = explicit_model.predict(uid)\n",
        "#   # explicit_scores[seen_movies[uid]] = -1\n",
        "#   implicit_scores = implicit_model.predict(uid)\n",
        "#   implicit_scores[seen_movies[uid]] = 0\n",
        "\n",
        "#   # explicit_top_50[uid] = get_top_n(explicit_scores, n=50)\n",
        "#   implicit_top_50[uid] = get_top_n(implicit_scores, n=50)\n",
        "\n",
        "# print('-------------Most Popular--------')\n",
        "# print_scores(spotlight_test.user_ids, spotlight_test.item_ids, mp_preds)\n",
        "\n",
        "# print('----------Explicit----------')\n",
        "# print_scores(spotlight_test.user_ids, spotlight_test.item_ids, explicit_top_50)\n",
        "\n",
        "# print('-------------Implicit--------')\n",
        "# print_scores(spotlight_test.user_ids, spotlight_test.item_ids, implicit_top_50)\n",
        "\n",
        "print('-------------Conditional Probability--------')\n",
        "print_scores(spotlight_test.user_ids, spotlight_test.item_ids, cp_preds)\n",
        "\n",
        "# print('-------------Conditional Probability + Most Popular--------')\n",
        "# _ = print_scores(spotlight_test.user_ids, spotlight_test.item_ids, cp_mp_preds)"
      ],
      "execution_count": null,
      "outputs": [
        {
          "output_type": "stream",
          "text": [
            "-------------Conditional Probability--------\n",
            "Hit Rate (%): 19.300106044538705\n",
            "MRR: 0.0150\n",
            "NDCG: 0.0483\n",
            "\n"
          ],
          "name": "stdout"
        },
        {
          "output_type": "execute_result",
          "data": {
            "text/plain": [
              "(19.300106044538705, 0.015034974619888616, 0.04829416429456377)"
            ]
          },
          "metadata": {
            "tags": []
          },
          "execution_count": 79
        }
      ]
    },
    {
      "cell_type": "code",
      "metadata": {
        "colab": {
          "base_uri": "https://localhost:8080/",
          "height": 334
        },
        "id": "d1kIvSe8PyhV",
        "outputId": "0641a3e1-5b8f-471e-8e52-28ac3fcf1ace"
      },
      "source": [
        "'''\n",
        "KNN Basic (Rating)\n",
        "'''\n",
        "k_list = [k for k in range(5,101,5)]\n",
        "rmse_all = {}\n",
        "\n",
        "for sim_func in ['msd', 'cosine', 'pearson']:\n",
        "  rmse_list = []\n",
        "  for k in k_list:\n",
        "    knn = KNNBasic(k, sim_options={'name': sim_func, 'user_based': True}, verbose=False)\n",
        "    knn.fit(DatasetAutoFolds.build_full_trainset(surprise_train))\n",
        "    preds = knn.test(surprise_test)\n",
        "  \n",
        "    # print(f'\\n-------------KNN({sim_func.upper()}, k={k}) -------------')\n",
        "    mae, rmse = rating_scores(np.array([p[2] for p in preds]), np.array([p[3] for p in preds]), show=False)\n",
        "    rmse_list.append(rmse)\n",
        "  rmse_all[sim_func] = rmse_list\n",
        "\n",
        "plt.figure(figsize=(10,5))\n",
        "for label,value in rmse_all.items():\n",
        "  plt.plot(k_list, value, '.-', markersize=15, label=label)\n",
        "plt.xticks(k_list)\n",
        "plt.xlabel('k Neighbors')\n",
        "plt.ylabel('RMSE')\n",
        "plt.legend()\n",
        "plt.show()\n"
      ],
      "execution_count": null,
      "outputs": [
        {
          "output_type": "display_data",
          "data": {
            "image/png": "[encoded data removed]",
            "text/plain": [
              "<Figure size 720x360 with 1 Axes>"
            ]
          },
          "metadata": {
            "tags": [],
            "needs_background": "light"
          }
        }
      ]
    },
    {
      "cell_type": "code",
      "metadata": {
        "colab": {
          "base_uri": "https://localhost:8080/"
        },
        "id": "jK4lpNsUFkvq",
        "outputId": "1c6d17c4-4773-4f9b-ddf4-dd4c8a8d5d47"
      },
      "source": [
        "def rating_scores(real, preds, show=True):\n",
        "  diff = np.abs(real - preds)\n",
        "  mae = np.average(diff)\n",
        "  rmse = math.sqrt(np.average(diff ** 2))\n",
        "  if show:\n",
        "    print(f'MAE: {mae:.4f}\\t RMSE: {rmse:.4f}')\n",
        "  return mae, rmse\n",
        "\n",
        "'''\n",
        "KNN Basic (Rating)\n",
        "'''\n",
        "def optimize_knn(args):\n",
        "  algorithm = KNNBasic(k=args['k'], min_k=args['min_k'], sim_options={'name': args['sim_func'], 'user_based': True}, verbose=False)\n",
        "  algorithm.fit(DatasetAutoFolds.build_full_trainset(surprise_train_for_val))\n",
        "  preds = algorithm.test(surprise_val)\n",
        "  mae, rmse = rating_scores(np.array([p[2] for p in preds]), np.array([p[3] for p in preds]), show=False)\n",
        "  return rmse\n",
        "\n",
        "\n",
        "space = {\n",
        "    'sim_func': hp.choice('sim_func', ['msd', 'cosine', 'pearson']),\n",
        "    'min_k': hp.choice('min_k', [1, 2, 5, 10]),\n",
        "    'k': hp.choice('k', list(range(5, 81, 5)))\n",
        "}\n",
        "\n",
        "trials_knn = Trials()\n",
        "best_knn = fmin(optimize_knn, space=space, algo=tpe.suggest, max_evals=50, trials=trials_knn)\n",
        "print(best_knn)\n",
        "print(trials_knn)"
      ],
      "execution_count": null,
      "outputs": [
        {
          "output_type": "stream",
          "text": [
            "100%|██████████| 50/50 [00:37<00:00,  1.32it/s, best loss: 1.0095241254500262]\n",
            "{'k': 5, 'min_k': 1, 'sim_func': 0}\n",
            "<hyperopt.base.Trials object at 0x7f76589f5390>\n"
          ],
          "name": "stdout"
        }
      ]
    },
    {
      "cell_type": "code",
      "metadata": {
        "colab": {
          "base_uri": "https://localhost:8080/",
          "height": 353
        },
        "id": "gx4fukfTMRP2",
        "outputId": "13e13c82-4c79-4506-d446-6e528ba9ee27"
      },
      "source": [
        "sim_functions = ['msd', 'cosine', 'pearson']\n",
        "k_list = list(range(5, 81, 5))\n",
        "min_k = [1, 2, 5, 10]\n",
        "\n",
        "points = {}\n",
        "for t in trials_knn:\n",
        "  point = (k_list[t['misc']['vals']['k'][0]], min_k[t['misc']['vals']['min_k'][0]])\n",
        "  if not point in points:\n",
        "    points[point] = {}\n",
        "  points[point][sim_functions[t['misc']['vals']['sim_func'][0]]] = t['result']['loss']\n",
        "\n",
        "plot = {'x_labels': [f\"K\\nMin-k\"]}\n",
        "plot.update({fn: [[], []] for fn in sim_functions})\n",
        "\n",
        "best_rmse = float('inf')\n",
        "best_point = None\n",
        "best_sim_functions = None\n",
        "for idx, (k, v) in enumerate(points.items()):\n",
        "  plot['x_labels'].append(f\"{k[0]}\\n{k[1]}\")\n",
        "  for fn, rmse in v.items():\n",
        "    plot[fn][0].append(idx + 1)\n",
        "    plot[fn][1].append(rmse)\n",
        "    if rmse < best_rmse:\n",
        "      best_point = idx + 1\n",
        "      best_rmse = rmse\n",
        "      best_sim_functions = fn\n",
        "\n",
        "\n",
        "plt.figure(figsize=(20, 5))\n",
        "offset = [-0.2, 0, 0.2]\n",
        "for fn, c, off in zip(sim_functions, ['#ff7f0e','#2ca02c','#1f77b4'], offset):\n",
        "  plt.bar(np.asarray(plot[fn][0]) + off, plot[fn][1], label=fn, width=0.2, color=c)\n",
        "plt.bar(best_point + offset[sim_functions.index(best_sim_functions)], best_rmse, label='Best', width=0.2, color='r')\n",
        "plt.annotate(f\"{best_rmse:.3f}\", (best_point - 0.6, best_rmse + 5e-3), fontsize=12)\n",
        "plt.xticks(range(len(points) + 1), plot['x_labels'])\n",
        "plt.xlabel('Hyperparameters (k-neighbors, minimum-k)', fontsize=14)\n",
        "plt.ylabel('Root Mean Square Error', fontsize=14)\n",
        "plt.ylim((1,1.2))\n",
        "plt.legend()\n",
        "plt.show()"
      ],
      "execution_count": null,
      "outputs": [
        {
          "output_type": "display_data",
          "data": {
            "image/png": "[encoded data removed]",
            "text/plain": [
              "<Figure size 1440x360 with 1 Axes>"
            ]
          },
          "metadata": {
            "tags": [],
            "needs_background": "light"
          }
        }
      ]
    },
    {
      "cell_type": "code",
      "metadata": {
        "colab": {
          "base_uri": "https://localhost:8080/"
        },
        "id": "dGhnX2hO-9lv",
        "outputId": "ccc2e613-437f-4526-8e32-245a2633e174"
      },
      "source": [
        "'''\n",
        "Evaluating k-NN\n",
        "'''\n",
        "for best_k, mink, sim_func in [(30, 1, 'msd'), (35, 1, 'cosine'), (60, 1, 'pearson')]:\n",
        "  print(f'Similarity={sim_func} \\tk={best_k} \\t Min_k={mink}')\n",
        "  algorithm = KNNBasic(k=best_k, min_k=mink, sim_options={'name': sim_func, 'user_based': True}, verbose=False)\n",
        "  algorithm.fit(DatasetAutoFolds.build_full_trainset(surprise_train))\n",
        "  preds = algorithm.test(surprise_test)\n",
        "  mae, rmse = rating_scores(np.array([p[2] for p in preds]), np.array([p[3] for p in preds]))\n",
        "  print('\\n')"
      ],
      "execution_count": null,
      "outputs": [
        {
          "output_type": "stream",
          "text": [
            "Similarity=msd \tk=30 \t Min_k=1\n",
            "MAE: 0.8349\t RMSE: 1.0575\n",
            "\n",
            "\n",
            "Similarity=cosine \tk=35 \t Min_k=1\n",
            "MAE: 0.8678\t RMSE: 1.0948\n",
            "\n",
            "\n",
            "Similarity=pearson \tk=60 \t Min_k=1\n",
            "MAE: 0.8534\t RMSE: 1.0815\n",
            "\n",
            "\n"
          ],
          "name": "stdout"
        }
      ]
    },
    {
      "cell_type": "code",
      "metadata": {
        "colab": {
          "base_uri": "https://localhost:8080/"
        },
        "id": "7FSJVGK-6hdu",
        "outputId": "55f82119-4029-4dcc-da9c-5501b71591b4"
      },
      "source": [
        "'''\n",
        "Slope-One, Co-Clustering\n",
        "'''\n",
        "# Iterate over all algorithms\n",
        "for algorithm in [SlopeOne(), NormalPredictor(), CoClustering()]:\n",
        "  algorithm.fit(DatasetAutoFolds.build_full_trainset(surprise_train))\n",
        "  preds = algorithm.test(surprise_test)\n",
        "\n",
        "  print(f'\\n-------------{str(algorithm)} -------------')\n",
        "  rating_scores(np.array([p[2] for p in preds]), np.array([p[3] for p in preds]))\n",
        "  # top_50 = {}\n",
        "  # for uid, iid, r in surprise_test:\n",
        "  #   p = [algorithm.predict(uid, i)[3] if i not in seen_movies[uid] and i!=0 else -1 for i in range(spotlight_train.num_items)]\n",
        "  #   top_50[uid] = get_top_n(p, n=50)\n",
        "\n",
        "  # print_scores(spotlight_test.user_ids, spotlight_test.item_ids, knn_top_50)"
      ],
      "execution_count": null,
      "outputs": [
        {
          "output_type": "stream",
          "text": [
            "\n",
            "-------------<surprise.prediction_algorithms.slope_one.SlopeOne object at 0x7fd95782ab00> -------------\n",
            "MAE: 0.7961, RMSE: 1.0277\n",
            "\n",
            "-------------<surprise.prediction_algorithms.random_pred.NormalPredictor object at 0x7fd95782a1d0> -------------\n",
            "MAE: 1.2861, RMSE: 1.6059\n",
            "\n",
            "-------------<surprise.prediction_algorithms.co_clustering.CoClustering object at 0x7fd95782a320> -------------\n",
            "MAE: 0.8249, RMSE: 1.0581\n"
          ],
          "name": "stdout"
        }
      ]
    },
    {
      "cell_type": "code",
      "metadata": {
        "colab": {
          "base_uri": "https://localhost:8080/"
        },
        "id": "v2xcxa6lHLPR",
        "outputId": "c50ac6bc-e441-4e94-d02d-3e0eff626f7f"
      },
      "source": [
        "def run_cocluster(train_set, test_set, u_cluster, i_cluster, epoch):\n",
        "  algorithm = CoClustering(n_cltr_u=u_cluster, n_cltr_i=i_cluster, n_epochs=epoch)\n",
        "  algorithm.fit(DatasetAutoFolds.build_full_trainset(train_set))\n",
        "  preds = algorithm.test(test_set)\n",
        "  mae, rmse = rating_scores(np.array([p[2] for p in preds]), np.array([p[3] for p in preds]), show=False)\n",
        "  return mae, rmse\n",
        "\n",
        "def optimize_cocluster(args):\n",
        "  mae, rmse = run_cocluster(surprise_train_for_val, surprise_val, args['u_clusters'], args['i_clusters'],args['epochs'])\n",
        "  return rmse\n",
        "\n",
        "space = {\n",
        "    'u_clusters': hp.choice('u_clusters', [2, 3, 5, 10, 20]),\n",
        "    'i_clusters': hp.choice('i_clusters', [2, 3, 5, 10, 20]),\n",
        "    'epochs': hp.choice('epochs', [10, 15, 20, 30, 50])\n",
        "}\n",
        "\n",
        "trials_co = Trials()\n",
        "best_co = fmin(optimize_cocluster, space=space, algo=tpe.suggest, max_evals=50, trials=trials_co)\n",
        "print(best_co)\n",
        "print(trials_co)\n"
      ],
      "execution_count": null,
      "outputs": [
        {
          "output_type": "stream",
          "text": [
            "100%|██████████| 50/50 [01:40<00:00,  2.00s/it, best loss: 1.009491879752358]\n",
            "{'epochs': 1, 'i_clusters': 1, 'u_clusters': 3}\n",
            "<hyperopt.base.Trials object at 0x7f8931486550>\n"
          ],
          "name": "stdout"
        }
      ]
    },
    {
      "cell_type": "code",
      "metadata": {
        "colab": {
          "base_uri": "https://localhost:8080/",
          "height": 367
        },
        "id": "-4jFn_99N7r8",
        "outputId": "34fcc245-62ae-4d3a-bc9c-22fc41578c28"
      },
      "source": [
        "u_clusters=[2, 3, 5, 10, 20]\n",
        "i_clusters=[2, 3, 5, 10, 20]\n",
        "epochs=[10, 15, 20, 30, 50]\n",
        "\n",
        "points = {}\n",
        "for t in trials_co:\n",
        "  point = (u_clusters[t['misc']['vals']['u_clusters'][0]], i_clusters[t['misc']['vals']['i_clusters'][0]], epochs[t['misc']['vals']['epochs'][0]])\n",
        "  if not point in points:\n",
        "    points[point] = float('inf')\n",
        "  points[point] = min([t['result']['loss'], points[point]])\n",
        "\n",
        "plot = {'x_labels': [f\"U_cl\\nI_cl\\nEpoch\"], 'co-cluster': [[], []]}\n",
        "\n",
        "best_rmse = float('inf')\n",
        "best_point = None\n",
        "for idx, (k, v) in enumerate(points.items()):\n",
        "  plot['x_labels'].append(f\"{k[0]}\\n{k[1]}\\n{k[2]}\")\n",
        "  plot['co-cluster'][0].append(idx + 1)\n",
        "  plot['co-cluster'][1].append(v)\n",
        "  if v < best_rmse:\n",
        "    best_point = idx + 1\n",
        "    best_rmse = v\n",
        "\n",
        "plt.figure(figsize=(20, 5))\n",
        "plt.bar(plot['co-cluster'][0], plot['co-cluster'][1], width=0.4)\n",
        "plt.bar(best_point, best_rmse, label='Best', width=0.4, color='r')\n",
        "# plt.scatter(best_point, best_rmse, label='Best', s=250, c='r')\n",
        "plt.annotate(f\"{best_rmse:.3f}\", (best_point - 0.5, best_rmse + 1e-3), fontsize=12)\n",
        "plt.xticks(range(len(points) + 1), plot['x_labels'])\n",
        "plt.xlabel('Hyperparameters (User_Cluster, Item_Cluster, Epoch)', fontsize=14)\n",
        "plt.ylabel('Root Mean Square Error', fontsize=14)\n",
        "plt.ylim((1, 1.07))\n",
        "plt.legend()\n",
        "plt.show()"
      ],
      "execution_count": null,
      "outputs": [
        {
          "output_type": "display_data",
          "data": {
            "image/png": "[encoded data removed]",
            "text/plain": [
              "<Figure size 1440x360 with 1 Axes>"
            ]
          },
          "metadata": {
            "tags": [],
            "needs_background": "light"
          }
        }
      ]
    },
    {
      "cell_type": "code",
      "metadata": {
        "colab": {
          "base_uri": "https://localhost:8080/"
        },
        "id": "vWIrjAAuQoaw",
        "outputId": "869b13ac-c4c9-4cb8-e593-bc4fa027c827"
      },
      "source": [
        "mae, rmse = run_cocluster(surprise_train, surprise_test, 10, 3, 30)\n",
        "print('Co-Cluster Results on Test')\n",
        "print(f'MAE:{mae:.4f}\\t RMSE:{rmse:.4f}')"
      ],
      "execution_count": null,
      "outputs": [
        {
          "output_type": "stream",
          "text": [
            "Co-Cluster Results on Test\n",
            "MAE:0.8140\t RMSE:1.0528\n"
          ],
          "name": "stdout"
        }
      ]
    },
    {
      "cell_type": "code",
      "metadata": {
        "colab": {
          "base_uri": "https://localhost:8080/",
          "height": 350
        },
        "id": "nOOcpxJy8vh3",
        "outputId": "9bdc6471-d1c5-499c-d47c-909ccb48b36b"
      },
      "source": [
        "'''\n",
        "Co-Clustering\n",
        "'''\n",
        "mae_list, rmse_list, params = [], [], []\n",
        "\n",
        "n_clusters = [2, 3, 5, 10]\n",
        "n_epochs = [10, 15, 20, 30, 50]\n",
        "\n",
        "for u in n_clusters:\n",
        "  for i in n_clusters:\n",
        "    for ep in n_epochs:\n",
        "      algorithm = CoClustering(n_cltr_u=u, n_cltr_i=i, n_epochs=ep)\n",
        "      algorithm.fit(DatasetAutoFolds.build_full_trainset(surprise_train))\n",
        "      preds = algorithm.test(surprise_test)\n",
        "\n",
        "      param = (u,i,ep)\n",
        "      # print(f'\\n-------------Co-Clustering{str(param)} -------------')\n",
        "      mae, rmse = rating_scores(np.array([p[2] for p in preds]), np.array([p[3] for p in preds]), show=False)\n",
        "      mae_list.append(mae)\n",
        "      rmse_list.append(rmse)\n",
        "      params.append(param)\n",
        "\n",
        "plt.figure(figsize=(22,5))\n",
        "plt.title('Test Co-Clustering')\n",
        "plt.plot(range(len(params)), rmse_list, '.-', markersize=15)\n",
        "plt.xticks(range(len(params)), labels=params)\n",
        "plt.xlabel('Params (User Cluster, Item Cluster, Epochs)')\n",
        "_ = plt.ylabel('RMSE')"
      ],
      "execution_count": null,
      "outputs": [
        {
          "output_type": "display_data",
          "data": {
            "image/png": "[encoded data removed]",
            "text/plain": [
              "<Figure size 1584x360 with 1 Axes>"
            ]
          },
          "metadata": {
            "tags": [],
            "needs_background": "light"
          }
        }
      ]
    },
    {
      "cell_type": "code",
      "metadata": {
        "colab": {
          "base_uri": "https://localhost:8080/"
        },
        "id": "SpkmeNW-3EsR",
        "outputId": "5aa921b0-b4bd-4d28-a014-fcd16687576e"
      },
      "source": [
        "# Testing original LightFM\n",
        "\n",
        "from lightfm.datasets import fetch_movielens\n",
        "\n",
        "data_ml = fetch_movielens(min_rating=5.0)\n",
        "model_x = LightFM(loss='warp')\n",
        "%time model_x.fit(data_ml['train'], item_features=data_ml['item_features'], epochs=30, num_threads=2)\n",
        "print(\"Train precision: %.2f\" % precision_at_k(model_x, data_ml['train'], k=5).mean())\n",
        "print(\"Test precision: %.2f\" % precision_at_k(model_x, data_ml['test'], train_interactions=data_ml['train'], item_features=data_ml['item_features'], k=5).mean())\n",
        "preds = model_x.predict_rank(data_ml['test'], train_interactions=data_ml['train'], item_features=data_ml['item_features'])\n",
        "hr, mrr, ndcg = 0.0, 0.0, 0.0\n",
        "counter = 0\n",
        "for u, i in zip(*data_ml['test'].nonzero()):\n",
        "  if preds[u, i] < 50 and preds[u, i] > 0:\n",
        "    hr += 1\n",
        "    mrr += (1/preds[u,i])\n",
        "    ndcg += (math.log(2) / math.log(preds[u, i] + 2))\n",
        "  counter += 1\n",
        "\n",
        "print(f'Hit Rate: {hr*100/counter:.4f}')\n",
        "print(f'MRR: {mrr/counter:.4f}')\n",
        "print(f'NDCG: {ndcg/counter:.4f}')\n",
        "\n",
        "print('-------------------------\\n')\n",
        "model_x = LightFM(loss='warp')\n",
        "%time model_x.fit(data_ml['train'], epochs=30, num_threads=2)\n",
        "print(\"Train precision: %.2f\" % precision_at_k(model_x, data_ml['train'], k=5).mean())\n",
        "print(\"Test precision: %.2f\" % precision_at_k(model_x, data_ml['test'], train_interactions=data_ml['train'], k=5).mean())\n",
        "preds = model_x.predict_rank(data_ml['test'], train_interactions=data_ml['train'], item_features=data_ml['item_features'])\n",
        "hr, mrr, ndcg = 0.0, 0.0, 0.0\n",
        "counter = 0\n",
        "for u, i in zip(*data_ml['test'].nonzero()):\n",
        "  if preds[u, i] < 50 and preds[u, i] > 0:\n",
        "    hr += 1\n",
        "    mrr += (1/preds[u,i])\n",
        "    ndcg += (math.log(2) / math.log(preds[u, i] + 2))\n",
        "  counter += 1\n",
        "\n",
        "print(f'Hit Rate: {hr*100/counter:.4f}')\n",
        "print(f'MRR: {mrr/counter:.4f}')\n",
        "print(f'NDCG: {ndcg/counter:.4f}')"
      ],
      "execution_count": null,
      "outputs": [
        {
          "output_type": "stream",
          "text": [
            "CPU times: user 733 ms, sys: 1.97 ms, total: 735 ms\n",
            "Wall time: 376 ms\n",
            "Train precision: 0.41\n",
            "Test precision: 0.07\n",
            "Hit Rate: 46.3075\n",
            "MRR: 0.0812\n",
            "NDCG: 0.1359\n",
            "-------------------------\n",
            "\n",
            "CPU times: user 741 ms, sys: 887 µs, total: 742 ms\n",
            "Wall time: 385 ms\n",
            "Train precision: 0.40\n",
            "Test precision: 0.08\n",
            "Hit Rate: 46.7255\n",
            "MRR: 0.0784\n",
            "NDCG: 0.1366\n"
          ],
          "name": "stdout"
        }
      ]
    },
    {
      "cell_type": "code",
      "metadata": {
        "colab": {
          "base_uri": "https://localhost:8080/"
        },
        "id": "x0WP1c3GFBKd",
        "outputId": "45c17c79-a284-4341-c94a-cd558b0eb311"
      },
      "source": [
        "'''\n",
        "Just for sanity check\n",
        "'''\n",
        "from spotlight.sequence.implicit import ImplicitSequenceModel\n",
        "from spotlight.interactions import SequenceInteractions\n",
        "\n",
        "seq_train = spotlight_dataset.to_sequence(max_sequence_length=20)\n",
        "seq_model = ImplicitSequenceModel(n_iter=10, representation='cnn', loss='hinge', use_cuda=True)\n",
        "seq_model.fit(seq_train)\n",
        "\n",
        "t = {}\n",
        "seq_test_input = spotlight_dataset.to_sequence(max_sequence_length=1000)\n",
        "for uid in range(spotlight_train.num_users - 1):\n",
        "  p = seq_model.predict(seq_test_input.sequences[uid][-25:])\n",
        "  t[uid+1] = get_top_n(p, n=50)\n",
        "\n",
        "print_scores(spotlight_test.user_ids, spotlight_test.item_ids, t)"
      ],
      "execution_count": null,
      "outputs": [
        {
          "output_type": "stream",
          "text": [
            "/usr/local/lib/python3.6/dist-packages/torch/nn/functional.py:1628: UserWarning: nn.functional.tanh is deprecated. Use torch.tanh instead.\n",
            "  warnings.warn(\"nn.functional.tanh is deprecated. Use torch.tanh instead.\")\n"
          ],
          "name": "stderr"
        },
        {
          "output_type": "stream",
          "text": [
            "Hit Rate (%): 60.127253446447504\n",
            "MRR: 0.1278745386505913\n",
            "NDCG: 0.22118200837814286\n",
            "\n"
          ],
          "name": "stdout"
        }
      ]
    }
  ]
}